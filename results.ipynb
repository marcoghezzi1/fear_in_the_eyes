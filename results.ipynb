{
 "cells": [
  {
   "cell_type": "code",
   "execution_count": 61,
   "metadata": {
    "pycharm": {
     "is_executing": true
    }
   },
   "outputs": [],
   "source": [
    "import pandas as pd\n",
    "import re\n"
   ]
  },
  {
   "cell_type": "code",
   "execution_count": 71,
   "metadata": {},
   "outputs": [
    {
     "name": "stdout",
     "output_type": "stream",
     "text": [
      "gp\n"
     ]
    }
   ],
   "source": [
    "string = \"output_gp.log\"\n",
    "\n",
    "\n",
    "    print(extracted_string)"
   ]
  },
  {
   "cell_type": "code",
   "execution_count": 62,
   "metadata": {},
   "outputs": [],
   "source": [
    "def parse_file(namefile):\n",
    "    \n",
    "    df_tmp = pd.DataFrame(columns = ['type','fold','RMSE','MAE','R2'])\n",
    "\n",
    "    with open(namefile, \"r\") as f:\n",
    "        file_contents = f.read()\n",
    "\n",
    "    rmse = re.findall(r\"RMSE test (-?[\\d.]+)\", file_contents)\n",
    "    mae = re.findall(r\"MAE test (-?[\\d.]+)\", file_contents)\n",
    "    r2 = re.findall(r\"R2 test (-?[\\d.]+)\", file_contents)\n",
    "    \n",
    "    pattern = r\"_(.*?)\\.log\"\n",
    "    match = re.search(pattern, string)\n",
    "    if match:\n",
    "        type_ = match.group(1)\n",
    "\n",
    "    df_tmp['RMSE']=pd.Series(rmse)\n",
    "    df_tmp['MAE']=pd.Series(mae)\n",
    "    df_tmp['R2']=pd.Series(r2)\n",
    "    df_tmp['type'] = pd.Series([type_]*len(mae))\n",
    "    df_tmp['fold'] = pd.Series([1,2,3,4,5]*(4))\n",
    "    return df_tmp"
   ]
  },
  {
   "cell_type": "code",
   "execution_count": 63,
   "metadata": {},
   "outputs": [],
   "source": [
    "df_mlp = parse_file(\"output_mlp.log\")"
   ]
  },
  {
   "cell_type": "code",
   "execution_count": 64,
   "metadata": {},
   "outputs": [],
   "source": [
    "df_gp = parse_file(\"output_gp.log\")"
   ]
  },
  {
   "cell_type": "code",
   "execution_count": 65,
   "metadata": {},
   "outputs": [],
   "source": [
    "df_rf = parse_file(\"output_rf.log\")"
   ]
  },
  {
   "cell_type": "code",
   "execution_count": 66,
   "metadata": {},
   "outputs": [],
   "source": [
    "df_svm = parse_file(\"output_svm.log\")"
   ]
  },
  {
   "cell_type": "code",
   "execution_count": 67,
   "metadata": {},
   "outputs": [],
   "source": [
    "df = pd.concat((df_mlp,df_gp,df_rf,df_svm))"
   ]
  },
  {
   "cell_type": "code",
   "execution_count": 69,
   "metadata": {},
   "outputs": [
    {
     "data": {
      "text/plain": [
       "array(['mlp'], dtype=object)"
      ]
     },
     "execution_count": 69,
     "metadata": {},
     "output_type": "execute_result"
    }
   ],
   "source": [
    "df['type'].unique()"
   ]
  },
  {
   "cell_type": "code",
   "execution_count": null,
   "metadata": {},
   "outputs": [],
   "source": []
  },
  {
   "cell_type": "code",
   "execution_count": null,
   "metadata": {},
   "outputs": [],
   "source": []
  }
 ],
 "metadata": {
  "kernelspec": {
   "display_name": "Python 3 (ipykernel)",
   "language": "python",
   "name": "python3"
  },
  "language_info": {
   "codemirror_mode": {
    "name": "ipython",
    "version": 3
   },
   "file_extension": ".py",
   "mimetype": "text/x-python",
   "name": "python",
   "nbconvert_exporter": "python",
   "pygments_lexer": "ipython3",
   "version": "3.10.6"
  }
 },
 "nbformat": 4,
 "nbformat_minor": 1
}
