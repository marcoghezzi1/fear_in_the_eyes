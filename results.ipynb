{
 "cells": [
  {
   "cell_type": "code",
   "execution_count": 1,
   "metadata": {
    "ExecuteTime": {
     "start_time": "2023-04-27T11:48:55.750054Z",
     "end_time": "2023-04-27T11:48:56.968349Z"
    }
   },
   "outputs": [],
   "source": [
    "import pandas as pd\n",
    "import re\n",
    "import numpy as np\n",
    "from sklearn.metrics import mean_absolute_percentage_error"
   ]
  },
  {
   "cell_type": "markdown",
   "source": [
    "MAPE"
   ],
   "metadata": {
    "collapsed": false
   }
  },
  {
   "cell_type": "code",
   "execution_count": 2,
   "outputs": [],
   "source": [
    "tmp_df = pd.DataFrame(columns=['type','features','fold','MAPE'])\n",
    "type_list = ['mlp','rf','svm','gp']\n",
    "feat_list = ['all','ou','classic','pupil']\n",
    "for fold in range(5):\n",
    "    for type in type_list:\n",
    "        for feat in feat_list:\n",
    "\n",
    "            if type=='mlp':\n",
    "                path='MLP/MLPRegressor'\n",
    "            if type=='rf':\n",
    "                path='RF/RandomForestRegressor'\n",
    "            if type=='gp':\n",
    "                path='GP/SparseGPRegression'\n",
    "            if type=='svm':\n",
    "                path='SVR/SVR'\n",
    "\n",
    "            RF_pred = np.load('results/trial_based/'+path+'_y_pred_'+feat+'_features_'+str(fold)+'.npy', allow_pickle=True)\n",
    "            RF_test = np.load('results/trial_based/'+path+'_y_test_'+feat+'_features_'+str(fold)+'.npy', allow_pickle=True)\n",
    "            mape = (mean_absolute_percentage_error(RF_test, RF_pred))\n",
    "            dct = ({ 'type': type,\n",
    "                     'features': feat,\n",
    "                     'fold': fold+1,\n",
    "                     'index': 1,\n",
    "                     'MAPE': mape\n",
    "                   })\n",
    "            dct = {k:[v] for k,v in dct.items()}  # WORKAROUND\n",
    "            df = pd.DataFrame(dct)\n",
    "            tmp_df = pd.concat((tmp_df,df))"
   ],
   "metadata": {
    "collapsed": false,
    "ExecuteTime": {
     "start_time": "2023-04-27T11:49:14.012096Z",
     "end_time": "2023-04-27T11:49:14.372811Z"
    }
   }
  },
  {
   "cell_type": "code",
   "execution_count": 3,
   "outputs": [
    {
     "data": {
      "text/plain": "   type features fold      MAPE\n0   mlp      all    1  0.261308\n0   mlp       ou    1  0.309057\n0   mlp  classic    1  0.351389\n0   mlp    pupil    1  0.298471\n0    rf      all    1  0.256900\n..  ...      ...  ...       ...\n0   svm    pupil    5  0.292694\n0    gp      all    5  0.278523\n0    gp       ou    5  0.331144\n0    gp  classic    5  0.337592\n0    gp    pupil    5  0.283752\n\n[80 rows x 4 columns]",
      "text/html": "<div>\n<style scoped>\n    .dataframe tbody tr th:only-of-type {\n        vertical-align: middle;\n    }\n\n    .dataframe tbody tr th {\n        vertical-align: top;\n    }\n\n    .dataframe thead th {\n        text-align: right;\n    }\n</style>\n<table border=\"1\" class=\"dataframe\">\n  <thead>\n    <tr style=\"text-align: right;\">\n      <th></th>\n      <th>type</th>\n      <th>features</th>\n      <th>fold</th>\n      <th>MAPE</th>\n    </tr>\n  </thead>\n  <tbody>\n    <tr>\n      <th>0</th>\n      <td>mlp</td>\n      <td>all</td>\n      <td>1</td>\n      <td>0.261308</td>\n    </tr>\n    <tr>\n      <th>0</th>\n      <td>mlp</td>\n      <td>ou</td>\n      <td>1</td>\n      <td>0.309057</td>\n    </tr>\n    <tr>\n      <th>0</th>\n      <td>mlp</td>\n      <td>classic</td>\n      <td>1</td>\n      <td>0.351389</td>\n    </tr>\n    <tr>\n      <th>0</th>\n      <td>mlp</td>\n      <td>pupil</td>\n      <td>1</td>\n      <td>0.298471</td>\n    </tr>\n    <tr>\n      <th>0</th>\n      <td>rf</td>\n      <td>all</td>\n      <td>1</td>\n      <td>0.256900</td>\n    </tr>\n    <tr>\n      <th>...</th>\n      <td>...</td>\n      <td>...</td>\n      <td>...</td>\n      <td>...</td>\n    </tr>\n    <tr>\n      <th>0</th>\n      <td>svm</td>\n      <td>pupil</td>\n      <td>5</td>\n      <td>0.292694</td>\n    </tr>\n    <tr>\n      <th>0</th>\n      <td>gp</td>\n      <td>all</td>\n      <td>5</td>\n      <td>0.278523</td>\n    </tr>\n    <tr>\n      <th>0</th>\n      <td>gp</td>\n      <td>ou</td>\n      <td>5</td>\n      <td>0.331144</td>\n    </tr>\n    <tr>\n      <th>0</th>\n      <td>gp</td>\n      <td>classic</td>\n      <td>5</td>\n      <td>0.337592</td>\n    </tr>\n    <tr>\n      <th>0</th>\n      <td>gp</td>\n      <td>pupil</td>\n      <td>5</td>\n      <td>0.283752</td>\n    </tr>\n  </tbody>\n</table>\n<p>80 rows × 4 columns</p>\n</div>"
     },
     "execution_count": 3,
     "metadata": {},
     "output_type": "execute_result"
    }
   ],
   "source": [
    "MAPE_df = tmp_df.drop(columns=['index'])\n",
    "MAPE_df"
   ],
   "metadata": {
    "collapsed": false,
    "ExecuteTime": {
     "start_time": "2023-04-27T11:49:14.521235Z",
     "end_time": "2023-04-27T11:49:14.603648Z"
    }
   }
  },
  {
   "cell_type": "code",
   "execution_count": 4,
   "metadata": {
    "ExecuteTime": {
     "start_time": "2023-04-27T11:49:15.070244Z",
     "end_time": "2023-04-27T11:49:15.149777Z"
    }
   },
   "outputs": [],
   "source": [
    "def parse_file(namefile):\n",
    "    \n",
    "    df_tmp = pd.DataFrame(columns = ['type','fold','RMSE','MAE','R2','features'])\n",
    "\n",
    "    with open(namefile, \"r\") as f:\n",
    "        file_contents = f.read()\n",
    "\n",
    "    rmse = re.findall(r\"RMSE test (-?[\\d.]+)\", file_contents)\n",
    "    mae = re.findall(r\"MAE test (-?[\\d.]+)\", file_contents)\n",
    "    r2 = re.findall(r\"R2 test (-?[\\d.]+)\", file_contents)\n",
    "    \n",
    "    pattern = r\"_(.*?)\\.log\"\n",
    "    match = re.search(pattern, namefile)\n",
    "    if match:\n",
    "        type_ = match.group(1)\n",
    "\n",
    "    df_tmp['RMSE'] = pd.to_numeric(pd.Series(rmse))\n",
    "    df_tmp['MAE'] = pd.to_numeric(pd.Series(mae))\n",
    "    df_tmp['R2'] = pd.to_numeric(pd.Series(r2))\n",
    "    df_tmp['type'] = pd.Series([type_]*len(mae))\n",
    "    df_tmp['fold'] = pd.to_numeric(pd.Series([1,2,3,4,5]*(4)))\n",
    "    \n",
    "    series_values = ['all'] * 5 + ['classic'] * 5 + ['pupil'] * 5 + ['ou'] * 5\n",
    "    series_index = ['A', 'B', 'C', 'D', 'E'] * 4\n",
    "\n",
    "    df_tmp['features'] = pd.Series(series_values)\n",
    "\n",
    "    return df_tmp"
   ]
  },
  {
   "cell_type": "code",
   "execution_count": 5,
   "metadata": {
    "ExecuteTime": {
     "start_time": "2023-04-27T11:49:15.655945Z",
     "end_time": "2023-04-27T11:49:15.747176Z"
    }
   },
   "outputs": [],
   "source": [
    "df_mlp = parse_file(\"results/output_mlp.log\")"
   ]
  },
  {
   "cell_type": "code",
   "execution_count": 6,
   "metadata": {
    "ExecuteTime": {
     "start_time": "2023-04-27T11:49:16.003945Z",
     "end_time": "2023-04-27T11:49:16.029057Z"
    }
   },
   "outputs": [],
   "source": [
    "df_gp = parse_file(\"results/output_gp.log\")"
   ]
  },
  {
   "cell_type": "code",
   "execution_count": 7,
   "metadata": {
    "ExecuteTime": {
     "start_time": "2023-04-27T11:49:16.382875Z",
     "end_time": "2023-04-27T11:49:16.460877Z"
    }
   },
   "outputs": [],
   "source": [
    "df_rf = parse_file(\"results/output_rf.log\")"
   ]
  },
  {
   "cell_type": "code",
   "execution_count": 8,
   "metadata": {
    "ExecuteTime": {
     "start_time": "2023-04-27T11:49:16.784063Z",
     "end_time": "2023-04-27T11:49:16.814035Z"
    }
   },
   "outputs": [],
   "source": [
    "df_svm = parse_file(\"results/output_svm.log\")"
   ]
  },
  {
   "cell_type": "code",
   "execution_count": 9,
   "metadata": {
    "ExecuteTime": {
     "start_time": "2023-04-27T11:49:17.224749Z",
     "end_time": "2023-04-27T11:49:17.306757Z"
    }
   },
   "outputs": [],
   "source": [
    "df_values = pd.concat((df_mlp,df_gp,df_rf,df_svm))"
   ]
  },
  {
   "cell_type": "code",
   "execution_count": 10,
   "metadata": {
    "ExecuteTime": {
     "start_time": "2023-04-27T11:49:23.172416Z",
     "end_time": "2023-04-27T11:49:23.235696Z"
    }
   },
   "outputs": [
    {
     "data": {
      "text/plain": "   type  fold      RMSE       MAE        R2 features\n0   mlp     1  6.645393  4.734410  0.299397      all\n1   mlp     2  6.241332  4.531311  0.382342      all\n2   mlp     3  6.652367  4.861051  0.298304      all\n3   mlp     4  6.237107  4.401830  0.382868      all\n4   mlp     5  7.016061  4.540525  0.220856      all\n..  ...   ...       ...       ...       ...      ...\n15  svm     1  7.958160  5.568466 -0.004745       ou\n16  svm     2  7.877014  5.514766  0.016178       ou\n17  svm     3  7.917876  5.545049  0.005937       ou\n18  svm     4  7.953239  5.544676 -0.003459       ou\n19  svm     5  7.922429  5.538771  0.006546       ou\n\n[80 rows x 6 columns]",
      "text/html": "<div>\n<style scoped>\n    .dataframe tbody tr th:only-of-type {\n        vertical-align: middle;\n    }\n\n    .dataframe tbody tr th {\n        vertical-align: top;\n    }\n\n    .dataframe thead th {\n        text-align: right;\n    }\n</style>\n<table border=\"1\" class=\"dataframe\">\n  <thead>\n    <tr style=\"text-align: right;\">\n      <th></th>\n      <th>type</th>\n      <th>fold</th>\n      <th>RMSE</th>\n      <th>MAE</th>\n      <th>R2</th>\n      <th>features</th>\n    </tr>\n  </thead>\n  <tbody>\n    <tr>\n      <th>0</th>\n      <td>mlp</td>\n      <td>1</td>\n      <td>6.645393</td>\n      <td>4.734410</td>\n      <td>0.299397</td>\n      <td>all</td>\n    </tr>\n    <tr>\n      <th>1</th>\n      <td>mlp</td>\n      <td>2</td>\n      <td>6.241332</td>\n      <td>4.531311</td>\n      <td>0.382342</td>\n      <td>all</td>\n    </tr>\n    <tr>\n      <th>2</th>\n      <td>mlp</td>\n      <td>3</td>\n      <td>6.652367</td>\n      <td>4.861051</td>\n      <td>0.298304</td>\n      <td>all</td>\n    </tr>\n    <tr>\n      <th>3</th>\n      <td>mlp</td>\n      <td>4</td>\n      <td>6.237107</td>\n      <td>4.401830</td>\n      <td>0.382868</td>\n      <td>all</td>\n    </tr>\n    <tr>\n      <th>4</th>\n      <td>mlp</td>\n      <td>5</td>\n      <td>7.016061</td>\n      <td>4.540525</td>\n      <td>0.220856</td>\n      <td>all</td>\n    </tr>\n    <tr>\n      <th>...</th>\n      <td>...</td>\n      <td>...</td>\n      <td>...</td>\n      <td>...</td>\n      <td>...</td>\n      <td>...</td>\n    </tr>\n    <tr>\n      <th>15</th>\n      <td>svm</td>\n      <td>1</td>\n      <td>7.958160</td>\n      <td>5.568466</td>\n      <td>-0.004745</td>\n      <td>ou</td>\n    </tr>\n    <tr>\n      <th>16</th>\n      <td>svm</td>\n      <td>2</td>\n      <td>7.877014</td>\n      <td>5.514766</td>\n      <td>0.016178</td>\n      <td>ou</td>\n    </tr>\n    <tr>\n      <th>17</th>\n      <td>svm</td>\n      <td>3</td>\n      <td>7.917876</td>\n      <td>5.545049</td>\n      <td>0.005937</td>\n      <td>ou</td>\n    </tr>\n    <tr>\n      <th>18</th>\n      <td>svm</td>\n      <td>4</td>\n      <td>7.953239</td>\n      <td>5.544676</td>\n      <td>-0.003459</td>\n      <td>ou</td>\n    </tr>\n    <tr>\n      <th>19</th>\n      <td>svm</td>\n      <td>5</td>\n      <td>7.922429</td>\n      <td>5.538771</td>\n      <td>0.006546</td>\n      <td>ou</td>\n    </tr>\n  </tbody>\n</table>\n<p>80 rows × 6 columns</p>\n</div>"
     },
     "execution_count": 10,
     "metadata": {},
     "output_type": "execute_result"
    }
   ],
   "source": [
    "df_values"
   ]
  },
  {
   "cell_type": "code",
   "execution_count": 11,
   "outputs": [
    {
     "data": {
      "text/plain": "array(['all', 'classic', 'pupil', 'ou'], dtype=object)"
     },
     "execution_count": 11,
     "metadata": {},
     "output_type": "execute_result"
    }
   ],
   "source": [
    "df_values['features'].unique()"
   ],
   "metadata": {
    "collapsed": false,
    "ExecuteTime": {
     "start_time": "2023-04-27T11:49:24.458017Z",
     "end_time": "2023-04-27T11:49:24.474904Z"
    }
   }
  },
  {
   "cell_type": "code",
   "execution_count": 12,
   "outputs": [
    {
     "data": {
      "text/plain": "array(['all', 'ou', 'classic', 'pupil'], dtype=object)"
     },
     "execution_count": 12,
     "metadata": {},
     "output_type": "execute_result"
    }
   ],
   "source": [
    "MAPE_df['features'].unique()"
   ],
   "metadata": {
    "collapsed": false,
    "ExecuteTime": {
     "start_time": "2023-04-27T11:49:25.048775Z",
     "end_time": "2023-04-27T11:49:25.111904Z"
    }
   }
  },
  {
   "cell_type": "code",
   "execution_count": 13,
   "outputs": [
    {
     "data": {
      "text/plain": "    index type features fold      MAPE\n0       0  mlp      all    1  0.261308\n1       0  mlp       ou    1  0.309057\n2       0  mlp  classic    1  0.351389\n3       0  mlp    pupil    1  0.298471\n4       0   rf      all    1  0.256900\n..    ...  ...      ...  ...       ...\n75      0  svm    pupil    5  0.292694\n76      0   gp      all    5  0.278523\n77      0   gp       ou    5  0.331144\n78      0   gp  classic    5  0.337592\n79      0   gp    pupil    5  0.283752\n\n[80 rows x 5 columns]",
      "text/html": "<div>\n<style scoped>\n    .dataframe tbody tr th:only-of-type {\n        vertical-align: middle;\n    }\n\n    .dataframe tbody tr th {\n        vertical-align: top;\n    }\n\n    .dataframe thead th {\n        text-align: right;\n    }\n</style>\n<table border=\"1\" class=\"dataframe\">\n  <thead>\n    <tr style=\"text-align: right;\">\n      <th></th>\n      <th>index</th>\n      <th>type</th>\n      <th>features</th>\n      <th>fold</th>\n      <th>MAPE</th>\n    </tr>\n  </thead>\n  <tbody>\n    <tr>\n      <th>0</th>\n      <td>0</td>\n      <td>mlp</td>\n      <td>all</td>\n      <td>1</td>\n      <td>0.261308</td>\n    </tr>\n    <tr>\n      <th>1</th>\n      <td>0</td>\n      <td>mlp</td>\n      <td>ou</td>\n      <td>1</td>\n      <td>0.309057</td>\n    </tr>\n    <tr>\n      <th>2</th>\n      <td>0</td>\n      <td>mlp</td>\n      <td>classic</td>\n      <td>1</td>\n      <td>0.351389</td>\n    </tr>\n    <tr>\n      <th>3</th>\n      <td>0</td>\n      <td>mlp</td>\n      <td>pupil</td>\n      <td>1</td>\n      <td>0.298471</td>\n    </tr>\n    <tr>\n      <th>4</th>\n      <td>0</td>\n      <td>rf</td>\n      <td>all</td>\n      <td>1</td>\n      <td>0.256900</td>\n    </tr>\n    <tr>\n      <th>...</th>\n      <td>...</td>\n      <td>...</td>\n      <td>...</td>\n      <td>...</td>\n      <td>...</td>\n    </tr>\n    <tr>\n      <th>75</th>\n      <td>0</td>\n      <td>svm</td>\n      <td>pupil</td>\n      <td>5</td>\n      <td>0.292694</td>\n    </tr>\n    <tr>\n      <th>76</th>\n      <td>0</td>\n      <td>gp</td>\n      <td>all</td>\n      <td>5</td>\n      <td>0.278523</td>\n    </tr>\n    <tr>\n      <th>77</th>\n      <td>0</td>\n      <td>gp</td>\n      <td>ou</td>\n      <td>5</td>\n      <td>0.331144</td>\n    </tr>\n    <tr>\n      <th>78</th>\n      <td>0</td>\n      <td>gp</td>\n      <td>classic</td>\n      <td>5</td>\n      <td>0.337592</td>\n    </tr>\n    <tr>\n      <th>79</th>\n      <td>0</td>\n      <td>gp</td>\n      <td>pupil</td>\n      <td>5</td>\n      <td>0.283752</td>\n    </tr>\n  </tbody>\n</table>\n<p>80 rows × 5 columns</p>\n</div>"
     },
     "execution_count": 13,
     "metadata": {},
     "output_type": "execute_result"
    }
   ],
   "source": [
    "MAPE_df.reset_index()"
   ],
   "metadata": {
    "collapsed": false,
    "ExecuteTime": {
     "start_time": "2023-04-27T11:49:25.524412Z",
     "end_time": "2023-04-27T11:49:25.550830Z"
    }
   }
  },
  {
   "cell_type": "code",
   "execution_count": 14,
   "outputs": [
    {
     "data": {
      "text/plain": "   type fold      RMSE       MAE        R2 features      MAPE\n0   mlp    1  6.645393  4.734410  0.299397      all  0.261308\n1   mlp    2  6.241332  4.531311  0.382342      all  0.253590\n2   mlp    3  6.652367  4.861051  0.298304      all  0.266866\n3   mlp    4  6.237107  4.401830  0.382868      all  0.237622\n4   mlp    5  7.016061  4.540525  0.220856      all  0.248136\n..  ...  ...       ...       ...       ...      ...       ...\n75  svm    1  7.958160  5.568466 -0.004745       ou  0.276135\n76  svm    2  7.877014  5.514766  0.016178       ou  0.275526\n77  svm    3  7.917876  5.545049  0.005937       ou  0.276901\n78  svm    4  7.953239  5.544676 -0.003459       ou  0.275710\n79  svm    5  7.922429  5.538771  0.006546       ou  0.275053\n\n[80 rows x 7 columns]",
      "text/html": "<div>\n<style scoped>\n    .dataframe tbody tr th:only-of-type {\n        vertical-align: middle;\n    }\n\n    .dataframe tbody tr th {\n        vertical-align: top;\n    }\n\n    .dataframe thead th {\n        text-align: right;\n    }\n</style>\n<table border=\"1\" class=\"dataframe\">\n  <thead>\n    <tr style=\"text-align: right;\">\n      <th></th>\n      <th>type</th>\n      <th>fold</th>\n      <th>RMSE</th>\n      <th>MAE</th>\n      <th>R2</th>\n      <th>features</th>\n      <th>MAPE</th>\n    </tr>\n  </thead>\n  <tbody>\n    <tr>\n      <th>0</th>\n      <td>mlp</td>\n      <td>1</td>\n      <td>6.645393</td>\n      <td>4.734410</td>\n      <td>0.299397</td>\n      <td>all</td>\n      <td>0.261308</td>\n    </tr>\n    <tr>\n      <th>1</th>\n      <td>mlp</td>\n      <td>2</td>\n      <td>6.241332</td>\n      <td>4.531311</td>\n      <td>0.382342</td>\n      <td>all</td>\n      <td>0.253590</td>\n    </tr>\n    <tr>\n      <th>2</th>\n      <td>mlp</td>\n      <td>3</td>\n      <td>6.652367</td>\n      <td>4.861051</td>\n      <td>0.298304</td>\n      <td>all</td>\n      <td>0.266866</td>\n    </tr>\n    <tr>\n      <th>3</th>\n      <td>mlp</td>\n      <td>4</td>\n      <td>6.237107</td>\n      <td>4.401830</td>\n      <td>0.382868</td>\n      <td>all</td>\n      <td>0.237622</td>\n    </tr>\n    <tr>\n      <th>4</th>\n      <td>mlp</td>\n      <td>5</td>\n      <td>7.016061</td>\n      <td>4.540525</td>\n      <td>0.220856</td>\n      <td>all</td>\n      <td>0.248136</td>\n    </tr>\n    <tr>\n      <th>...</th>\n      <td>...</td>\n      <td>...</td>\n      <td>...</td>\n      <td>...</td>\n      <td>...</td>\n      <td>...</td>\n      <td>...</td>\n    </tr>\n    <tr>\n      <th>75</th>\n      <td>svm</td>\n      <td>1</td>\n      <td>7.958160</td>\n      <td>5.568466</td>\n      <td>-0.004745</td>\n      <td>ou</td>\n      <td>0.276135</td>\n    </tr>\n    <tr>\n      <th>76</th>\n      <td>svm</td>\n      <td>2</td>\n      <td>7.877014</td>\n      <td>5.514766</td>\n      <td>0.016178</td>\n      <td>ou</td>\n      <td>0.275526</td>\n    </tr>\n    <tr>\n      <th>77</th>\n      <td>svm</td>\n      <td>3</td>\n      <td>7.917876</td>\n      <td>5.545049</td>\n      <td>0.005937</td>\n      <td>ou</td>\n      <td>0.276901</td>\n    </tr>\n    <tr>\n      <th>78</th>\n      <td>svm</td>\n      <td>4</td>\n      <td>7.953239</td>\n      <td>5.544676</td>\n      <td>-0.003459</td>\n      <td>ou</td>\n      <td>0.275710</td>\n    </tr>\n    <tr>\n      <th>79</th>\n      <td>svm</td>\n      <td>5</td>\n      <td>7.922429</td>\n      <td>5.538771</td>\n      <td>0.006546</td>\n      <td>ou</td>\n      <td>0.275053</td>\n    </tr>\n  </tbody>\n</table>\n<p>80 rows × 7 columns</p>\n</div>"
     },
     "execution_count": 14,
     "metadata": {},
     "output_type": "execute_result"
    }
   ],
   "source": [
    "result = pd.merge(df_values,MAPE_df,on=['fold','features','type'],how='inner')\n",
    "result"
   ],
   "metadata": {
    "collapsed": false,
    "ExecuteTime": {
     "start_time": "2023-04-27T11:49:26.663045Z",
     "end_time": "2023-04-27T11:49:26.734924Z"
    }
   }
  },
  {
   "cell_type": "code",
   "execution_count": 15,
   "outputs": [],
   "source": [
    "result.to_csv('metrics_results.csv', index=False)"
   ],
   "metadata": {
    "collapsed": false,
    "ExecuteTime": {
     "start_time": "2023-04-27T11:49:28.528435Z",
     "end_time": "2023-04-27T11:49:28.554009Z"
    }
   }
  },
  {
   "cell_type": "code",
   "execution_count": 16,
   "metadata": {
    "ExecuteTime": {
     "start_time": "2023-04-27T11:49:29.239382Z",
     "end_time": "2023-04-27T11:49:29.340152Z"
    }
   },
   "outputs": [],
   "source": [
    "df_mlp = result[result['type']=='mlp']"
   ]
  },
  {
   "cell_type": "code",
   "execution_count": 25,
   "metadata": {
    "ExecuteTime": {
     "start_time": "2023-04-27T11:50:44.477026Z",
     "end_time": "2023-04-27T11:50:44.545870Z"
    }
   },
   "outputs": [
    {
     "data": {
      "text/plain": "               RMSE       MAE      MAPE         R2\nfeatures                                          \nall        6.558452  4.613825  0.253504   0.316754\npupil      7.232298  5.237873  0.287874   0.170743\nclassic    7.882491  6.147866  0.346137   0.014943\nou        20.569459  6.001027  0.344576 -16.797265",
      "text/html": "<div>\n<style scoped>\n    .dataframe tbody tr th:only-of-type {\n        vertical-align: middle;\n    }\n\n    .dataframe tbody tr th {\n        vertical-align: top;\n    }\n\n    .dataframe thead th {\n        text-align: right;\n    }\n</style>\n<table border=\"1\" class=\"dataframe\">\n  <thead>\n    <tr style=\"text-align: right;\">\n      <th></th>\n      <th>RMSE</th>\n      <th>MAE</th>\n      <th>MAPE</th>\n      <th>R2</th>\n    </tr>\n    <tr>\n      <th>features</th>\n      <th></th>\n      <th></th>\n      <th></th>\n      <th></th>\n    </tr>\n  </thead>\n  <tbody>\n    <tr>\n      <th>all</th>\n      <td>6.558452</td>\n      <td>4.613825</td>\n      <td>0.253504</td>\n      <td>0.316754</td>\n    </tr>\n    <tr>\n      <th>pupil</th>\n      <td>7.232298</td>\n      <td>5.237873</td>\n      <td>0.287874</td>\n      <td>0.170743</td>\n    </tr>\n    <tr>\n      <th>classic</th>\n      <td>7.882491</td>\n      <td>6.147866</td>\n      <td>0.346137</td>\n      <td>0.014943</td>\n    </tr>\n    <tr>\n      <th>ou</th>\n      <td>20.569459</td>\n      <td>6.001027</td>\n      <td>0.344576</td>\n      <td>-16.797265</td>\n    </tr>\n  </tbody>\n</table>\n</div>"
     },
     "execution_count": 25,
     "metadata": {},
     "output_type": "execute_result"
    }
   ],
   "source": [
    "df_mlp[['RMSE','MAE','MAPE','R2','features']].groupby(['features']).mean().sort_values('RMSE')"
   ]
  },
  {
   "cell_type": "code",
   "execution_count": 19,
   "metadata": {
    "ExecuteTime": {
     "start_time": "2023-04-27T11:49:59.304579Z",
     "end_time": "2023-04-27T11:49:59.364868Z"
    }
   },
   "outputs": [],
   "source": [
    "df_gp = result[result['type']=='gp']"
   ]
  },
  {
   "cell_type": "code",
   "execution_count": 20,
   "metadata": {
    "ExecuteTime": {
     "start_time": "2023-04-27T11:49:59.836384Z",
     "end_time": "2023-04-27T11:49:59.920120Z"
    }
   },
   "outputs": [
    {
     "data": {
      "text/plain": "              RMSE       MAE      MAPE        R2\nfeatures                                        \nall       7.184484  5.163235  0.282541  0.181664\npupil     7.242580  5.226220  0.286692  0.168384\nou        7.787820  5.972065  0.332990  0.038463\nclassic   7.892509  6.085696  0.338085  0.012439",
      "text/html": "<div>\n<style scoped>\n    .dataframe tbody tr th:only-of-type {\n        vertical-align: middle;\n    }\n\n    .dataframe tbody tr th {\n        vertical-align: top;\n    }\n\n    .dataframe thead th {\n        text-align: right;\n    }\n</style>\n<table border=\"1\" class=\"dataframe\">\n  <thead>\n    <tr style=\"text-align: right;\">\n      <th></th>\n      <th>RMSE</th>\n      <th>MAE</th>\n      <th>MAPE</th>\n      <th>R2</th>\n    </tr>\n    <tr>\n      <th>features</th>\n      <th></th>\n      <th></th>\n      <th></th>\n      <th></th>\n    </tr>\n  </thead>\n  <tbody>\n    <tr>\n      <th>all</th>\n      <td>7.184484</td>\n      <td>5.163235</td>\n      <td>0.282541</td>\n      <td>0.181664</td>\n    </tr>\n    <tr>\n      <th>pupil</th>\n      <td>7.242580</td>\n      <td>5.226220</td>\n      <td>0.286692</td>\n      <td>0.168384</td>\n    </tr>\n    <tr>\n      <th>ou</th>\n      <td>7.787820</td>\n      <td>5.972065</td>\n      <td>0.332990</td>\n      <td>0.038463</td>\n    </tr>\n    <tr>\n      <th>classic</th>\n      <td>7.892509</td>\n      <td>6.085696</td>\n      <td>0.338085</td>\n      <td>0.012439</td>\n    </tr>\n  </tbody>\n</table>\n</div>"
     },
     "execution_count": 20,
     "metadata": {},
     "output_type": "execute_result"
    }
   ],
   "source": [
    "df_gp[['RMSE','MAE','MAPE','R2','features']].groupby(['features']).mean().sort_values('RMSE')"
   ]
  },
  {
   "cell_type": "code",
   "execution_count": 21,
   "metadata": {
    "ExecuteTime": {
     "start_time": "2023-04-27T11:50:00.844161Z",
     "end_time": "2023-04-27T11:50:01.054119Z"
    }
   },
   "outputs": [],
   "source": [
    "df_rf = result[result['type']=='rf']"
   ]
  },
  {
   "cell_type": "code",
   "execution_count": 22,
   "metadata": {
    "ExecuteTime": {
     "start_time": "2023-04-27T11:50:01.468126Z",
     "end_time": "2023-04-27T11:50:01.584470Z"
    }
   },
   "outputs": [
    {
     "data": {
      "text/plain": "              RMSE       MAE      MAPE        R2\nfeatures                                        \nall       6.386239  4.571497  0.251878  0.353359\npupil     7.209608  5.214524  0.287061  0.175942\nou        7.233362  5.603272  0.314355  0.170476\nclassic   7.790790  6.029662  0.336897  0.037729",
      "text/html": "<div>\n<style scoped>\n    .dataframe tbody tr th:only-of-type {\n        vertical-align: middle;\n    }\n\n    .dataframe tbody tr th {\n        vertical-align: top;\n    }\n\n    .dataframe thead th {\n        text-align: right;\n    }\n</style>\n<table border=\"1\" class=\"dataframe\">\n  <thead>\n    <tr style=\"text-align: right;\">\n      <th></th>\n      <th>RMSE</th>\n      <th>MAE</th>\n      <th>MAPE</th>\n      <th>R2</th>\n    </tr>\n    <tr>\n      <th>features</th>\n      <th></th>\n      <th></th>\n      <th></th>\n      <th></th>\n    </tr>\n  </thead>\n  <tbody>\n    <tr>\n      <th>all</th>\n      <td>6.386239</td>\n      <td>4.571497</td>\n      <td>0.251878</td>\n      <td>0.353359</td>\n    </tr>\n    <tr>\n      <th>pupil</th>\n      <td>7.209608</td>\n      <td>5.214524</td>\n      <td>0.287061</td>\n      <td>0.175942</td>\n    </tr>\n    <tr>\n      <th>ou</th>\n      <td>7.233362</td>\n      <td>5.603272</td>\n      <td>0.314355</td>\n      <td>0.170476</td>\n    </tr>\n    <tr>\n      <th>classic</th>\n      <td>7.790790</td>\n      <td>6.029662</td>\n      <td>0.336897</td>\n      <td>0.037729</td>\n    </tr>\n  </tbody>\n</table>\n</div>"
     },
     "execution_count": 22,
     "metadata": {},
     "output_type": "execute_result"
    }
   ],
   "source": [
    "df_rf[['RMSE','MAE','MAPE','R2','features']].groupby(['features']).mean().sort_values('RMSE')"
   ]
  },
  {
   "cell_type": "code",
   "execution_count": 23,
   "metadata": {
    "ExecuteTime": {
     "start_time": "2023-04-27T11:50:02.433163Z",
     "end_time": "2023-04-27T11:50:02.499348Z"
    }
   },
   "outputs": [],
   "source": [
    "df_svm = result[result['type']=='svm']"
   ]
  },
  {
   "cell_type": "code",
   "execution_count": 24,
   "metadata": {
    "ExecuteTime": {
     "start_time": "2023-04-27T11:50:09.525450Z",
     "end_time": "2023-04-27T11:50:09.577404Z"
    }
   },
   "outputs": [
    {
     "data": {
      "text/plain": "              RMSE       MAE        R2      MAPE\nfeatures                                        \nall       7.600923  5.050673  0.084058  0.265995\nou        7.925744  5.542345  0.004091  0.275865\npupil     8.137482  5.414734 -0.049829  0.293269\nclassic   8.159746  5.792489 -0.055568  0.289696",
      "text/html": "<div>\n<style scoped>\n    .dataframe tbody tr th:only-of-type {\n        vertical-align: middle;\n    }\n\n    .dataframe tbody tr th {\n        vertical-align: top;\n    }\n\n    .dataframe thead th {\n        text-align: right;\n    }\n</style>\n<table border=\"1\" class=\"dataframe\">\n  <thead>\n    <tr style=\"text-align: right;\">\n      <th></th>\n      <th>RMSE</th>\n      <th>MAE</th>\n      <th>R2</th>\n      <th>MAPE</th>\n    </tr>\n    <tr>\n      <th>features</th>\n      <th></th>\n      <th></th>\n      <th></th>\n      <th></th>\n    </tr>\n  </thead>\n  <tbody>\n    <tr>\n      <th>all</th>\n      <td>7.600923</td>\n      <td>5.050673</td>\n      <td>0.084058</td>\n      <td>0.265995</td>\n    </tr>\n    <tr>\n      <th>ou</th>\n      <td>7.925744</td>\n      <td>5.542345</td>\n      <td>0.004091</td>\n      <td>0.275865</td>\n    </tr>\n    <tr>\n      <th>pupil</th>\n      <td>8.137482</td>\n      <td>5.414734</td>\n      <td>-0.049829</td>\n      <td>0.293269</td>\n    </tr>\n    <tr>\n      <th>classic</th>\n      <td>8.159746</td>\n      <td>5.792489</td>\n      <td>-0.055568</td>\n      <td>0.289696</td>\n    </tr>\n  </tbody>\n</table>\n</div>"
     },
     "execution_count": 24,
     "metadata": {},
     "output_type": "execute_result"
    }
   ],
   "source": [
    "df_svm[['RMSE','MAE','R2','MAPE','features']].groupby(['features']).mean().sort_values('RMSE')"
   ]
  },
  {
   "cell_type": "code",
   "execution_count": null,
   "metadata": {},
   "outputs": [],
   "source": []
  }
 ],
 "metadata": {
  "kernelspec": {
   "display_name": "Python 3 (ipykernel)",
   "language": "python",
   "name": "python3"
  },
  "language_info": {
   "codemirror_mode": {
    "name": "ipython",
    "version": 3
   },
   "file_extension": ".py",
   "mimetype": "text/x-python",
   "name": "python",
   "nbconvert_exporter": "python",
   "pygments_lexer": "ipython3",
   "version": "3.10.6"
  }
 },
 "nbformat": 4,
 "nbformat_minor": 1
}
