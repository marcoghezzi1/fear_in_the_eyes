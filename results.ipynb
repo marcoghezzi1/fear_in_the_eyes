{
 "cells": [
  {
   "cell_type": "code",
   "execution_count": 91,
   "metadata": {
    "pycharm": {
     "is_executing": true
    }
   },
   "outputs": [],
   "source": [
    "import pandas as pd\n",
    "import re\n"
   ]
  },
  {
   "cell_type": "code",
   "execution_count": 127,
   "metadata": {},
   "outputs": [],
   "source": [
    "def parse_file(namefile):\n",
    "    \n",
    "    df_tmp = pd.DataFrame(columns = ['type','fold','RMSE','MAE','R2','features'])\n",
    "\n",
    "    with open(namefile, \"r\") as f:\n",
    "        file_contents = f.read()\n",
    "\n",
    "    rmse = re.findall(r\"RMSE test (-?[\\d.]+)\", file_contents)\n",
    "    mae = re.findall(r\"MAE test (-?[\\d.]+)\", file_contents)\n",
    "    r2 = re.findall(r\"R2 test (-?[\\d.]+)\", file_contents)\n",
    "    \n",
    "    pattern = r\"_(.*?)\\.log\"\n",
    "    match = re.search(pattern, namefile)\n",
    "    if match:\n",
    "        type_ = match.group(1)\n",
    "\n",
    "    df_tmp['RMSE'] = pd.to_numeric(pd.Series(rmse))\n",
    "    df_tmp['MAE'] = pd.to_numeric(pd.Series(mae))\n",
    "    df_tmp['R2'] = pd.to_numeric(pd.Series(r2))\n",
    "    df_tmp['type'] = pd.Series([type_]*len(mae))\n",
    "    df_tmp['fold'] = pd.to_numeric(pd.Series([1,2,3,4,5]*(4)))\n",
    "    \n",
    "    series_values = ['all'] * 5 + ['classic'] * 5 + ['pupil'] * 5 + ['ou'] * 5\n",
    "    series_index = ['A', 'B', 'C', 'D', 'E'] * 4\n",
    "\n",
    "    df_tmp['features'] = pd.Series(series_values)\n",
    "\n",
    "    return df_tmp"
   ]
  },
  {
   "cell_type": "code",
   "execution_count": 128,
   "metadata": {},
   "outputs": [],
   "source": [
    "df_mlp = parse_file(\"output_mlp.log\")"
   ]
  },
  {
   "cell_type": "code",
   "execution_count": 129,
   "metadata": {},
   "outputs": [],
   "source": [
    "df_gp = parse_file(\"output_gp.log\")"
   ]
  },
  {
   "cell_type": "code",
   "execution_count": 130,
   "metadata": {},
   "outputs": [],
   "source": [
    "df_rf = parse_file(\"output_rf.log\")"
   ]
  },
  {
   "cell_type": "code",
   "execution_count": 131,
   "metadata": {},
   "outputs": [],
   "source": [
    "df_svm = parse_file(\"output_svm.log\")"
   ]
  },
  {
   "cell_type": "code",
   "execution_count": 132,
   "metadata": {},
   "outputs": [],
   "source": [
    "df = pd.concat((df_mlp,df_gp,df_rf,df_svm))"
   ]
  },
  {
   "cell_type": "code",
   "execution_count": 133,
   "metadata": {},
   "outputs": [],
   "source": [
    "df.to_csv('metrics_results.csv', index=False)"
   ]
  },
  {
   "cell_type": "code",
   "execution_count": 134,
   "metadata": {},
   "outputs": [
    {
     "data": {
      "text/html": [
       "<div>\n",
       "<style scoped>\n",
       "    .dataframe tbody tr th:only-of-type {\n",
       "        vertical-align: middle;\n",
       "    }\n",
       "\n",
       "    .dataframe tbody tr th {\n",
       "        vertical-align: top;\n",
       "    }\n",
       "\n",
       "    .dataframe thead th {\n",
       "        text-align: right;\n",
       "    }\n",
       "</style>\n",
       "<table border=\"1\" class=\"dataframe\">\n",
       "  <thead>\n",
       "    <tr style=\"text-align: right;\">\n",
       "      <th></th>\n",
       "      <th>type</th>\n",
       "      <th>fold</th>\n",
       "      <th>RMSE</th>\n",
       "      <th>MAE</th>\n",
       "      <th>R2</th>\n",
       "      <th>features</th>\n",
       "    </tr>\n",
       "  </thead>\n",
       "  <tbody>\n",
       "    <tr>\n",
       "      <th>0</th>\n",
       "      <td>mlp</td>\n",
       "      <td>1</td>\n",
       "      <td>6.645393</td>\n",
       "      <td>4.734410</td>\n",
       "      <td>0.299397</td>\n",
       "      <td>all</td>\n",
       "    </tr>\n",
       "    <tr>\n",
       "      <th>1</th>\n",
       "      <td>mlp</td>\n",
       "      <td>2</td>\n",
       "      <td>6.241332</td>\n",
       "      <td>4.531311</td>\n",
       "      <td>0.382342</td>\n",
       "      <td>all</td>\n",
       "    </tr>\n",
       "    <tr>\n",
       "      <th>2</th>\n",
       "      <td>mlp</td>\n",
       "      <td>3</td>\n",
       "      <td>6.652367</td>\n",
       "      <td>4.861051</td>\n",
       "      <td>0.298304</td>\n",
       "      <td>all</td>\n",
       "    </tr>\n",
       "    <tr>\n",
       "      <th>3</th>\n",
       "      <td>mlp</td>\n",
       "      <td>4</td>\n",
       "      <td>6.237107</td>\n",
       "      <td>4.401830</td>\n",
       "      <td>0.382868</td>\n",
       "      <td>all</td>\n",
       "    </tr>\n",
       "    <tr>\n",
       "      <th>4</th>\n",
       "      <td>mlp</td>\n",
       "      <td>5</td>\n",
       "      <td>7.016061</td>\n",
       "      <td>4.540525</td>\n",
       "      <td>0.220856</td>\n",
       "      <td>all</td>\n",
       "    </tr>\n",
       "    <tr>\n",
       "      <th>...</th>\n",
       "      <td>...</td>\n",
       "      <td>...</td>\n",
       "      <td>...</td>\n",
       "      <td>...</td>\n",
       "      <td>...</td>\n",
       "      <td>...</td>\n",
       "    </tr>\n",
       "    <tr>\n",
       "      <th>15</th>\n",
       "      <td>svm</td>\n",
       "      <td>1</td>\n",
       "      <td>7.958160</td>\n",
       "      <td>5.568466</td>\n",
       "      <td>-0.004745</td>\n",
       "      <td>ou</td>\n",
       "    </tr>\n",
       "    <tr>\n",
       "      <th>16</th>\n",
       "      <td>svm</td>\n",
       "      <td>2</td>\n",
       "      <td>7.877014</td>\n",
       "      <td>5.514766</td>\n",
       "      <td>0.016178</td>\n",
       "      <td>ou</td>\n",
       "    </tr>\n",
       "    <tr>\n",
       "      <th>17</th>\n",
       "      <td>svm</td>\n",
       "      <td>3</td>\n",
       "      <td>7.917876</td>\n",
       "      <td>5.545049</td>\n",
       "      <td>0.005937</td>\n",
       "      <td>ou</td>\n",
       "    </tr>\n",
       "    <tr>\n",
       "      <th>18</th>\n",
       "      <td>svm</td>\n",
       "      <td>4</td>\n",
       "      <td>7.953239</td>\n",
       "      <td>5.544676</td>\n",
       "      <td>-0.003459</td>\n",
       "      <td>ou</td>\n",
       "    </tr>\n",
       "    <tr>\n",
       "      <th>19</th>\n",
       "      <td>svm</td>\n",
       "      <td>5</td>\n",
       "      <td>7.922429</td>\n",
       "      <td>5.538771</td>\n",
       "      <td>0.006546</td>\n",
       "      <td>ou</td>\n",
       "    </tr>\n",
       "  </tbody>\n",
       "</table>\n",
       "<p>80 rows × 6 columns</p>\n",
       "</div>"
      ],
      "text/plain": [
       "   type  fold      RMSE       MAE        R2 features\n",
       "0   mlp     1  6.645393  4.734410  0.299397      all\n",
       "1   mlp     2  6.241332  4.531311  0.382342      all\n",
       "2   mlp     3  6.652367  4.861051  0.298304      all\n",
       "3   mlp     4  6.237107  4.401830  0.382868      all\n",
       "4   mlp     5  7.016061  4.540525  0.220856      all\n",
       "..  ...   ...       ...       ...       ...      ...\n",
       "15  svm     1  7.958160  5.568466 -0.004745       ou\n",
       "16  svm     2  7.877014  5.514766  0.016178       ou\n",
       "17  svm     3  7.917876  5.545049  0.005937       ou\n",
       "18  svm     4  7.953239  5.544676 -0.003459       ou\n",
       "19  svm     5  7.922429  5.538771  0.006546       ou\n",
       "\n",
       "[80 rows x 6 columns]"
      ]
     },
     "execution_count": 134,
     "metadata": {},
     "output_type": "execute_result"
    }
   ],
   "source": [
    "df"
   ]
  },
  {
   "cell_type": "code",
   "execution_count": 135,
   "metadata": {},
   "outputs": [],
   "source": [
    "df_mlp = df[df['type']=='mlp']"
   ]
  },
  {
   "cell_type": "code",
   "execution_count": 150,
   "metadata": {},
   "outputs": [
    {
     "data": {
      "text/html": [
       "<div>\n",
       "<style scoped>\n",
       "    .dataframe tbody tr th:only-of-type {\n",
       "        vertical-align: middle;\n",
       "    }\n",
       "\n",
       "    .dataframe tbody tr th {\n",
       "        vertical-align: top;\n",
       "    }\n",
       "\n",
       "    .dataframe thead th {\n",
       "        text-align: right;\n",
       "    }\n",
       "</style>\n",
       "<table border=\"1\" class=\"dataframe\">\n",
       "  <thead>\n",
       "    <tr style=\"text-align: right;\">\n",
       "      <th></th>\n",
       "      <th>RMSE</th>\n",
       "      <th>MAE</th>\n",
       "      <th>R2</th>\n",
       "    </tr>\n",
       "    <tr>\n",
       "      <th>features</th>\n",
       "      <th></th>\n",
       "      <th></th>\n",
       "      <th></th>\n",
       "    </tr>\n",
       "  </thead>\n",
       "  <tbody>\n",
       "    <tr>\n",
       "      <th>all</th>\n",
       "      <td>6.558452</td>\n",
       "      <td>4.613825</td>\n",
       "      <td>0.316754</td>\n",
       "    </tr>\n",
       "    <tr>\n",
       "      <th>pupil</th>\n",
       "      <td>7.232298</td>\n",
       "      <td>5.237873</td>\n",
       "      <td>0.170743</td>\n",
       "    </tr>\n",
       "    <tr>\n",
       "      <th>classic</th>\n",
       "      <td>7.882491</td>\n",
       "      <td>6.147866</td>\n",
       "      <td>0.014943</td>\n",
       "    </tr>\n",
       "    <tr>\n",
       "      <th>ou</th>\n",
       "      <td>20.569459</td>\n",
       "      <td>6.001027</td>\n",
       "      <td>-16.797265</td>\n",
       "    </tr>\n",
       "  </tbody>\n",
       "</table>\n",
       "</div>"
      ],
      "text/plain": [
       "               RMSE       MAE         R2\n",
       "features                                \n",
       "all        6.558452  4.613825   0.316754\n",
       "pupil      7.232298  5.237873   0.170743\n",
       "classic    7.882491  6.147866   0.014943\n",
       "ou        20.569459  6.001027 -16.797265"
      ]
     },
     "execution_count": 150,
     "metadata": {},
     "output_type": "execute_result"
    }
   ],
   "source": [
    "df_mlp[['RMSE','MAE','R2','features']].groupby(['features']).mean().sort_values('RMSE')"
   ]
  },
  {
   "cell_type": "code",
   "execution_count": 140,
   "metadata": {},
   "outputs": [],
   "source": [
    "df_gp = df[df['type']=='gp']"
   ]
  },
  {
   "cell_type": "code",
   "execution_count": 149,
   "metadata": {},
   "outputs": [
    {
     "data": {
      "text/html": [
       "<div>\n",
       "<style scoped>\n",
       "    .dataframe tbody tr th:only-of-type {\n",
       "        vertical-align: middle;\n",
       "    }\n",
       "\n",
       "    .dataframe tbody tr th {\n",
       "        vertical-align: top;\n",
       "    }\n",
       "\n",
       "    .dataframe thead th {\n",
       "        text-align: right;\n",
       "    }\n",
       "</style>\n",
       "<table border=\"1\" class=\"dataframe\">\n",
       "  <thead>\n",
       "    <tr style=\"text-align: right;\">\n",
       "      <th></th>\n",
       "      <th>RMSE</th>\n",
       "      <th>MAE</th>\n",
       "      <th>R2</th>\n",
       "    </tr>\n",
       "    <tr>\n",
       "      <th>features</th>\n",
       "      <th></th>\n",
       "      <th></th>\n",
       "      <th></th>\n",
       "    </tr>\n",
       "  </thead>\n",
       "  <tbody>\n",
       "    <tr>\n",
       "      <th>all</th>\n",
       "      <td>7.184484</td>\n",
       "      <td>5.163235</td>\n",
       "      <td>0.181664</td>\n",
       "    </tr>\n",
       "    <tr>\n",
       "      <th>pupil</th>\n",
       "      <td>7.242580</td>\n",
       "      <td>5.226220</td>\n",
       "      <td>0.168384</td>\n",
       "    </tr>\n",
       "    <tr>\n",
       "      <th>ou</th>\n",
       "      <td>7.787820</td>\n",
       "      <td>5.972065</td>\n",
       "      <td>0.038463</td>\n",
       "    </tr>\n",
       "    <tr>\n",
       "      <th>classic</th>\n",
       "      <td>7.892509</td>\n",
       "      <td>6.085696</td>\n",
       "      <td>0.012439</td>\n",
       "    </tr>\n",
       "  </tbody>\n",
       "</table>\n",
       "</div>"
      ],
      "text/plain": [
       "              RMSE       MAE        R2\n",
       "features                              \n",
       "all       7.184484  5.163235  0.181664\n",
       "pupil     7.242580  5.226220  0.168384\n",
       "ou        7.787820  5.972065  0.038463\n",
       "classic   7.892509  6.085696  0.012439"
      ]
     },
     "execution_count": 149,
     "metadata": {},
     "output_type": "execute_result"
    }
   ],
   "source": [
    "df_gp[['RMSE','MAE','R2','features']].groupby(['features']).mean().sort_values('RMSE')"
   ]
  },
  {
   "cell_type": "code",
   "execution_count": 142,
   "metadata": {},
   "outputs": [],
   "source": [
    "df_rf = df[df['type']=='rf']"
   ]
  },
  {
   "cell_type": "code",
   "execution_count": 148,
   "metadata": {},
   "outputs": [
    {
     "data": {
      "text/html": [
       "<div>\n",
       "<style scoped>\n",
       "    .dataframe tbody tr th:only-of-type {\n",
       "        vertical-align: middle;\n",
       "    }\n",
       "\n",
       "    .dataframe tbody tr th {\n",
       "        vertical-align: top;\n",
       "    }\n",
       "\n",
       "    .dataframe thead th {\n",
       "        text-align: right;\n",
       "    }\n",
       "</style>\n",
       "<table border=\"1\" class=\"dataframe\">\n",
       "  <thead>\n",
       "    <tr style=\"text-align: right;\">\n",
       "      <th></th>\n",
       "      <th>RMSE</th>\n",
       "      <th>MAE</th>\n",
       "      <th>R2</th>\n",
       "    </tr>\n",
       "    <tr>\n",
       "      <th>features</th>\n",
       "      <th></th>\n",
       "      <th></th>\n",
       "      <th></th>\n",
       "    </tr>\n",
       "  </thead>\n",
       "  <tbody>\n",
       "    <tr>\n",
       "      <th>all</th>\n",
       "      <td>6.386239</td>\n",
       "      <td>4.571497</td>\n",
       "      <td>0.353359</td>\n",
       "    </tr>\n",
       "    <tr>\n",
       "      <th>pupil</th>\n",
       "      <td>7.209608</td>\n",
       "      <td>5.214524</td>\n",
       "      <td>0.175942</td>\n",
       "    </tr>\n",
       "    <tr>\n",
       "      <th>ou</th>\n",
       "      <td>7.233362</td>\n",
       "      <td>5.603272</td>\n",
       "      <td>0.170476</td>\n",
       "    </tr>\n",
       "    <tr>\n",
       "      <th>classic</th>\n",
       "      <td>7.790790</td>\n",
       "      <td>6.029662</td>\n",
       "      <td>0.037729</td>\n",
       "    </tr>\n",
       "  </tbody>\n",
       "</table>\n",
       "</div>"
      ],
      "text/plain": [
       "              RMSE       MAE        R2\n",
       "features                              \n",
       "all       6.386239  4.571497  0.353359\n",
       "pupil     7.209608  5.214524  0.175942\n",
       "ou        7.233362  5.603272  0.170476\n",
       "classic   7.790790  6.029662  0.037729"
      ]
     },
     "execution_count": 148,
     "metadata": {},
     "output_type": "execute_result"
    }
   ],
   "source": [
    "df_rf[['RMSE','MAE','R2','features']].groupby(['features']).mean().sort_values('RMSE')"
   ]
  },
  {
   "cell_type": "code",
   "execution_count": 144,
   "metadata": {},
   "outputs": [],
   "source": [
    "df_svm = df[df['type']=='svm']"
   ]
  },
  {
   "cell_type": "code",
   "execution_count": 147,
   "metadata": {},
   "outputs": [
    {
     "data": {
      "text/html": [
       "<div>\n",
       "<style scoped>\n",
       "    .dataframe tbody tr th:only-of-type {\n",
       "        vertical-align: middle;\n",
       "    }\n",
       "\n",
       "    .dataframe tbody tr th {\n",
       "        vertical-align: top;\n",
       "    }\n",
       "\n",
       "    .dataframe thead th {\n",
       "        text-align: right;\n",
       "    }\n",
       "</style>\n",
       "<table border=\"1\" class=\"dataframe\">\n",
       "  <thead>\n",
       "    <tr style=\"text-align: right;\">\n",
       "      <th></th>\n",
       "      <th>RMSE</th>\n",
       "      <th>MAE</th>\n",
       "      <th>R2</th>\n",
       "    </tr>\n",
       "    <tr>\n",
       "      <th>features</th>\n",
       "      <th></th>\n",
       "      <th></th>\n",
       "      <th></th>\n",
       "    </tr>\n",
       "  </thead>\n",
       "  <tbody>\n",
       "    <tr>\n",
       "      <th>all</th>\n",
       "      <td>7.600923</td>\n",
       "      <td>5.050673</td>\n",
       "      <td>0.084058</td>\n",
       "    </tr>\n",
       "    <tr>\n",
       "      <th>ou</th>\n",
       "      <td>7.925744</td>\n",
       "      <td>5.542345</td>\n",
       "      <td>0.004091</td>\n",
       "    </tr>\n",
       "    <tr>\n",
       "      <th>pupil</th>\n",
       "      <td>8.137482</td>\n",
       "      <td>5.414734</td>\n",
       "      <td>-0.049829</td>\n",
       "    </tr>\n",
       "    <tr>\n",
       "      <th>classic</th>\n",
       "      <td>8.159746</td>\n",
       "      <td>5.792489</td>\n",
       "      <td>-0.055568</td>\n",
       "    </tr>\n",
       "  </tbody>\n",
       "</table>\n",
       "</div>"
      ],
      "text/plain": [
       "              RMSE       MAE        R2\n",
       "features                              \n",
       "all       7.600923  5.050673  0.084058\n",
       "ou        7.925744  5.542345  0.004091\n",
       "pupil     8.137482  5.414734 -0.049829\n",
       "classic   8.159746  5.792489 -0.055568"
      ]
     },
     "execution_count": 147,
     "metadata": {},
     "output_type": "execute_result"
    }
   ],
   "source": [
    "df_svm[['RMSE','MAE','R2','features']].groupby(['features']).mean().sort_values('RMSE')"
   ]
  },
  {
   "cell_type": "code",
   "execution_count": null,
   "metadata": {},
   "outputs": [],
   "source": []
  }
 ],
 "metadata": {
  "kernelspec": {
   "display_name": "Python 3 (ipykernel)",
   "language": "python",
   "name": "python3"
  },
  "language_info": {
   "codemirror_mode": {
    "name": "ipython",
    "version": 3
   },
   "file_extension": ".py",
   "mimetype": "text/x-python",
   "name": "python",
   "nbconvert_exporter": "python",
   "pygments_lexer": "ipython3",
   "version": "3.10.6"
  }
 },
 "nbformat": 4,
 "nbformat_minor": 1
}
