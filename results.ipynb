{
 "cells": [
  {
   "cell_type": "code",
   "execution_count": 91,
   "metadata": {
    "pycharm": {
     "is_executing": true
    }
   },
   "outputs": [],
   "source": [
    "import pandas as pd\n",
    "import re\n"
   ]
  },
  {
   "cell_type": "code",
   "execution_count": 107,
   "metadata": {},
   "outputs": [],
   "source": [
    "def parse_file(namefile):\n",
    "    \n",
    "    df_tmp = pd.DataFrame(columns = ['type','fold','RMSE','MAE','R2','features'])\n",
    "\n",
    "    with open(namefile, \"r\") as f:\n",
    "        file_contents = f.read()\n",
    "\n",
    "    rmse = re.findall(r\"RMSE test (-?[\\d.]+)\", file_contents)\n",
    "    mae = re.findall(r\"MAE test (-?[\\d.]+)\", file_contents)\n",
    "    r2 = re.findall(r\"R2 test (-?[\\d.]+)\", file_contents)\n",
    "    \n",
    "    pattern = r\"_(.*?)\\.log\"\n",
    "    match = re.search(pattern, namefile)\n",
    "    if match:\n",
    "        type_ = match.group(1)\n",
    "\n",
    "    df_tmp['RMSE'] = pd.Series(rmse)\n",
    "    df_tmp['MAE'] = pd.Series(mae)\n",
    "    df_tmp['R2'] = pd.Series(r2)\n",
    "    df_tmp['type'] = pd.Series([type_]*len(mae))\n",
    "    df_tmp['fold'] = pd.Series([1,2,3,4,5]*(4))\n",
    "    \n",
    "    series_values = ['all'] * 5 + ['classic'] * 5 + ['pupil'] * 5 + ['ou'] * 5\n",
    "    series_index = ['A', 'B', 'C', 'D', 'E'] * 4\n",
    "\n",
    "    df_tmp['features'] = pd.Series(series_values)\n",
    "\n",
    "    return df_tmp"
   ]
  },
  {
   "cell_type": "code",
   "execution_count": 108,
   "metadata": {},
   "outputs": [],
   "source": [
    "df_mlp = parse_file(\"output_mlp.log\")"
   ]
  },
  {
   "cell_type": "code",
   "execution_count": 109,
   "metadata": {},
   "outputs": [],
   "source": [
    "df_gp = parse_file(\"output_gp.log\")"
   ]
  },
  {
   "cell_type": "code",
   "execution_count": 110,
   "metadata": {},
   "outputs": [],
   "source": [
    "df_rf = parse_file(\"output_rf.log\")"
   ]
  },
  {
   "cell_type": "code",
   "execution_count": 111,
   "metadata": {},
   "outputs": [],
   "source": [
    "df_svm = parse_file(\"output_svm.log\")"
   ]
  },
  {
   "cell_type": "code",
   "execution_count": 112,
   "metadata": {},
   "outputs": [],
   "source": [
    "df = pd.concat((df_mlp,df_gp,df_rf,df_svm))"
   ]
  },
  {
   "cell_type": "code",
   "execution_count": 113,
   "metadata": {},
   "outputs": [],
   "source": [
    "df.to_csv('metrics_results.csv', index=False)"
   ]
  },
  {
   "cell_type": "code",
   "execution_count": 114,
   "metadata": {},
   "outputs": [
    {
     "data": {
      "text/html": [
       "<div>\n",
       "<style scoped>\n",
       "    .dataframe tbody tr th:only-of-type {\n",
       "        vertical-align: middle;\n",
       "    }\n",
       "\n",
       "    .dataframe tbody tr th {\n",
       "        vertical-align: top;\n",
       "    }\n",
       "\n",
       "    .dataframe thead th {\n",
       "        text-align: right;\n",
       "    }\n",
       "</style>\n",
       "<table border=\"1\" class=\"dataframe\">\n",
       "  <thead>\n",
       "    <tr style=\"text-align: right;\">\n",
       "      <th></th>\n",
       "      <th>type</th>\n",
       "      <th>fold</th>\n",
       "      <th>RMSE</th>\n",
       "      <th>MAE</th>\n",
       "      <th>R2</th>\n",
       "      <th>features</th>\n",
       "    </tr>\n",
       "  </thead>\n",
       "  <tbody>\n",
       "    <tr>\n",
       "      <th>0</th>\n",
       "      <td>mlp</td>\n",
       "      <td>1</td>\n",
       "      <td>6.645392645798546</td>\n",
       "      <td>4.734409567427443</td>\n",
       "      <td>0.2993973667416415</td>\n",
       "      <td>all</td>\n",
       "    </tr>\n",
       "    <tr>\n",
       "      <th>1</th>\n",
       "      <td>mlp</td>\n",
       "      <td>2</td>\n",
       "      <td>6.241332272212418</td>\n",
       "      <td>4.531311278390365</td>\n",
       "      <td>0.382342024105662</td>\n",
       "      <td>all</td>\n",
       "    </tr>\n",
       "    <tr>\n",
       "      <th>2</th>\n",
       "      <td>mlp</td>\n",
       "      <td>3</td>\n",
       "      <td>6.652366945742425</td>\n",
       "      <td>4.861050674910973</td>\n",
       "      <td>0.2983042005811205</td>\n",
       "      <td>all</td>\n",
       "    </tr>\n",
       "    <tr>\n",
       "      <th>3</th>\n",
       "      <td>mlp</td>\n",
       "      <td>4</td>\n",
       "      <td>6.237107456437417</td>\n",
       "      <td>4.401830334944244</td>\n",
       "      <td>0.38286840220870844</td>\n",
       "      <td>all</td>\n",
       "    </tr>\n",
       "    <tr>\n",
       "      <th>4</th>\n",
       "      <td>mlp</td>\n",
       "      <td>5</td>\n",
       "      <td>7.016061230845402</td>\n",
       "      <td>4.540525289100382</td>\n",
       "      <td>0.22085573312485896</td>\n",
       "      <td>all</td>\n",
       "    </tr>\n",
       "    <tr>\n",
       "      <th>...</th>\n",
       "      <td>...</td>\n",
       "      <td>...</td>\n",
       "      <td>...</td>\n",
       "      <td>...</td>\n",
       "      <td>...</td>\n",
       "      <td>...</td>\n",
       "    </tr>\n",
       "    <tr>\n",
       "      <th>15</th>\n",
       "      <td>svm</td>\n",
       "      <td>1</td>\n",
       "      <td>7.958159887624277</td>\n",
       "      <td>5.5684662237757605</td>\n",
       "      <td>-0.004744859529721701</td>\n",
       "      <td>ou</td>\n",
       "    </tr>\n",
       "    <tr>\n",
       "      <th>16</th>\n",
       "      <td>svm</td>\n",
       "      <td>2</td>\n",
       "      <td>7.877014342991475</td>\n",
       "      <td>5.514765606829733</td>\n",
       "      <td>0.016177572548720764</td>\n",
       "      <td>ou</td>\n",
       "    </tr>\n",
       "    <tr>\n",
       "      <th>17</th>\n",
       "      <td>svm</td>\n",
       "      <td>3</td>\n",
       "      <td>7.917876064028625</td>\n",
       "      <td>5.545049093833559</td>\n",
       "      <td>0.005937062413019389</td>\n",
       "      <td>ou</td>\n",
       "    </tr>\n",
       "    <tr>\n",
       "      <th>18</th>\n",
       "      <td>svm</td>\n",
       "      <td>4</td>\n",
       "      <td>7.953239207267211</td>\n",
       "      <td>5.544675545046498</td>\n",
       "      <td>-0.003458509355278583</td>\n",
       "      <td>ou</td>\n",
       "    </tr>\n",
       "    <tr>\n",
       "      <th>19</th>\n",
       "      <td>svm</td>\n",
       "      <td>5</td>\n",
       "      <td>7.922428807421115</td>\n",
       "      <td>5.538770735040694</td>\n",
       "      <td>0.006545849132193693</td>\n",
       "      <td>ou</td>\n",
       "    </tr>\n",
       "  </tbody>\n",
       "</table>\n",
       "<p>80 rows × 6 columns</p>\n",
       "</div>"
      ],
      "text/plain": [
       "   type  fold               RMSE                 MAE                     R2   \n",
       "0   mlp     1  6.645392645798546   4.734409567427443     0.2993973667416415  \\\n",
       "1   mlp     2  6.241332272212418   4.531311278390365      0.382342024105662   \n",
       "2   mlp     3  6.652366945742425   4.861050674910973     0.2983042005811205   \n",
       "3   mlp     4  6.237107456437417   4.401830334944244    0.38286840220870844   \n",
       "4   mlp     5  7.016061230845402   4.540525289100382    0.22085573312485896   \n",
       "..  ...   ...                ...                 ...                    ...   \n",
       "15  svm     1  7.958159887624277  5.5684662237757605  -0.004744859529721701   \n",
       "16  svm     2  7.877014342991475   5.514765606829733   0.016177572548720764   \n",
       "17  svm     3  7.917876064028625   5.545049093833559   0.005937062413019389   \n",
       "18  svm     4  7.953239207267211   5.544675545046498  -0.003458509355278583   \n",
       "19  svm     5  7.922428807421115   5.538770735040694   0.006545849132193693   \n",
       "\n",
       "   features  \n",
       "0       all  \n",
       "1       all  \n",
       "2       all  \n",
       "3       all  \n",
       "4       all  \n",
       "..      ...  \n",
       "15       ou  \n",
       "16       ou  \n",
       "17       ou  \n",
       "18       ou  \n",
       "19       ou  \n",
       "\n",
       "[80 rows x 6 columns]"
      ]
     },
     "execution_count": 114,
     "metadata": {},
     "output_type": "execute_result"
    }
   ],
   "source": [
    "df"
   ]
  },
  {
   "cell_type": "code",
   "execution_count": 115,
   "metadata": {},
   "outputs": [],
   "source": [
    "df_mlp = df[df['type']=='mlp']"
   ]
  },
  {
   "cell_type": "code",
   "execution_count": null,
   "metadata": {},
   "outputs": [],
   "source": []
  }
 ],
 "metadata": {
  "kernelspec": {
   "display_name": "Python 3 (ipykernel)",
   "language": "python",
   "name": "python3"
  },
  "language_info": {
   "codemirror_mode": {
    "name": "ipython",
    "version": 3
   },
   "file_extension": ".py",
   "mimetype": "text/x-python",
   "name": "python",
   "nbconvert_exporter": "python",
   "pygments_lexer": "ipython3",
   "version": "3.10.6"
  }
 },
 "nbformat": 4,
 "nbformat_minor": 1
}
