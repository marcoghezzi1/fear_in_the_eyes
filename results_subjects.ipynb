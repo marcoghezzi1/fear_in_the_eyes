{
 "cells": [
  {
   "cell_type": "code",
   "execution_count": 23,
   "metadata": {
    "ExecuteTime": {
     "start_time": "2023-05-04T15:53:50.525670Z",
     "end_time": "2023-05-04T15:53:51.092852Z"
    }
   },
   "outputs": [],
   "source": [
    "import pandas as pd\n",
    "import re\n",
    "import numpy as np\n",
    "from sklearn.metrics import mean_absolute_percentage_error"
   ]
  },
  {
   "cell_type": "markdown",
   "source": [
    "MAPE"
   ],
   "metadata": {
    "collapsed": false
   }
  },
  {
   "cell_type": "code",
   "execution_count": 24,
   "outputs": [],
   "source": [
    "tmp_df = pd.DataFrame(columns=['type','features','fold','MAPE'])\n",
    "type_list = ['mlp','rf'] #,'svm','gp'\n",
    "feat_list = ['all','ou','classic','pupil']\n",
    "for fold in range(5):\n",
    "    for type in type_list:\n",
    "        for feat in feat_list:\n",
    "\n",
    "            if type=='mlp':\n",
    "                path='MLP/MLPRegressor'\n",
    "            if type=='rf':\n",
    "                path='RF/RandomForestRegressor'\n",
    "            if type=='gp':\n",
    "                path='GP/SparseGPRegression'\n",
    "            if type=='svm':\n",
    "                path='SVR/SVR'\n",
    "\n",
    "            RF_pred = np.load('results/kfold_subject/subject_based/'+path+'_y_pred_'+feat+'_features_'+str(fold)+'.npy', allow_pickle=True)\n",
    "            RF_test = np.load('results/kfold_subject/subject_based/'+path+'_y_test_'+feat+'_features_'+str(fold)+'.npy', allow_pickle=True)\n",
    "            mape = (mean_absolute_percentage_error(RF_test, RF_pred))\n",
    "            dct = ({ 'type': type,\n",
    "                     'features': feat,\n",
    "                     'fold': fold+1,\n",
    "                     'index': 1,\n",
    "                     'MAPE': mape\n",
    "                   })\n",
    "            dct = {k:[v] for k,v in dct.items()}  # WORKAROUND\n",
    "            df = pd.DataFrame(dct)\n",
    "            tmp_df = pd.concat((tmp_df,df))"
   ],
   "metadata": {
    "collapsed": false,
    "ExecuteTime": {
     "start_time": "2023-05-04T15:53:50.604574Z",
     "end_time": "2023-05-04T15:53:52.147063Z"
    }
   }
  },
  {
   "cell_type": "code",
   "execution_count": 25,
   "outputs": [
    {
     "data": {
      "text/plain": "  type features fold      MAPE\n0  mlp      all    1  0.307251\n0  mlp       ou    1  0.397121\n0  mlp  classic    1  0.340453\n0  mlp    pupil    1  0.315663\n0   rf      all    1  0.343720\n0   rf       ou    1  0.346047\n0   rf  classic    1  0.338887\n0   rf    pupil    1  0.323192\n0  mlp      all    2  0.259517\n0  mlp       ou    2  0.283344\n0  mlp  classic    2  0.281251\n0  mlp    pupil    2  0.246853\n0   rf      all    2  0.266229\n0   rf       ou    2  0.278979\n0   rf  classic    2  0.287297\n0   rf    pupil    2  0.261762\n0  mlp      all    3  0.273698\n0  mlp       ou    3  0.274053\n0  mlp  classic    3  0.255345\n0  mlp    pupil    3  0.260275\n0   rf      all    3  0.272583\n0   rf       ou    3  0.272316\n0   rf  classic    3  0.264384\n0   rf    pupil    3  0.260157\n0  mlp      all    4  0.407727\n0  mlp       ou    4  0.393799\n0  mlp  classic    4  0.395093\n0  mlp    pupil    4  0.392409\n0   rf      all    4  0.401100\n0   rf       ou    4  0.403961\n0   rf  classic    4  0.408128\n0   rf    pupil    4  0.387970\n0  mlp      all    5  0.480139\n0  mlp       ou    5  0.426990\n0  mlp  classic    5  0.438991\n0  mlp    pupil    5  0.442217\n0   rf      all    5  0.465231\n0   rf       ou    5  0.446928\n0   rf  classic    5  0.450699\n0   rf    pupil    5  0.453581",
      "text/html": "<div>\n<style scoped>\n    .dataframe tbody tr th:only-of-type {\n        vertical-align: middle;\n    }\n\n    .dataframe tbody tr th {\n        vertical-align: top;\n    }\n\n    .dataframe thead th {\n        text-align: right;\n    }\n</style>\n<table border=\"1\" class=\"dataframe\">\n  <thead>\n    <tr style=\"text-align: right;\">\n      <th></th>\n      <th>type</th>\n      <th>features</th>\n      <th>fold</th>\n      <th>MAPE</th>\n    </tr>\n  </thead>\n  <tbody>\n    <tr>\n      <th>0</th>\n      <td>mlp</td>\n      <td>all</td>\n      <td>1</td>\n      <td>0.307251</td>\n    </tr>\n    <tr>\n      <th>0</th>\n      <td>mlp</td>\n      <td>ou</td>\n      <td>1</td>\n      <td>0.397121</td>\n    </tr>\n    <tr>\n      <th>0</th>\n      <td>mlp</td>\n      <td>classic</td>\n      <td>1</td>\n      <td>0.340453</td>\n    </tr>\n    <tr>\n      <th>0</th>\n      <td>mlp</td>\n      <td>pupil</td>\n      <td>1</td>\n      <td>0.315663</td>\n    </tr>\n    <tr>\n      <th>0</th>\n      <td>rf</td>\n      <td>all</td>\n      <td>1</td>\n      <td>0.343720</td>\n    </tr>\n    <tr>\n      <th>0</th>\n      <td>rf</td>\n      <td>ou</td>\n      <td>1</td>\n      <td>0.346047</td>\n    </tr>\n    <tr>\n      <th>0</th>\n      <td>rf</td>\n      <td>classic</td>\n      <td>1</td>\n      <td>0.338887</td>\n    </tr>\n    <tr>\n      <th>0</th>\n      <td>rf</td>\n      <td>pupil</td>\n      <td>1</td>\n      <td>0.323192</td>\n    </tr>\n    <tr>\n      <th>0</th>\n      <td>mlp</td>\n      <td>all</td>\n      <td>2</td>\n      <td>0.259517</td>\n    </tr>\n    <tr>\n      <th>0</th>\n      <td>mlp</td>\n      <td>ou</td>\n      <td>2</td>\n      <td>0.283344</td>\n    </tr>\n    <tr>\n      <th>0</th>\n      <td>mlp</td>\n      <td>classic</td>\n      <td>2</td>\n      <td>0.281251</td>\n    </tr>\n    <tr>\n      <th>0</th>\n      <td>mlp</td>\n      <td>pupil</td>\n      <td>2</td>\n      <td>0.246853</td>\n    </tr>\n    <tr>\n      <th>0</th>\n      <td>rf</td>\n      <td>all</td>\n      <td>2</td>\n      <td>0.266229</td>\n    </tr>\n    <tr>\n      <th>0</th>\n      <td>rf</td>\n      <td>ou</td>\n      <td>2</td>\n      <td>0.278979</td>\n    </tr>\n    <tr>\n      <th>0</th>\n      <td>rf</td>\n      <td>classic</td>\n      <td>2</td>\n      <td>0.287297</td>\n    </tr>\n    <tr>\n      <th>0</th>\n      <td>rf</td>\n      <td>pupil</td>\n      <td>2</td>\n      <td>0.261762</td>\n    </tr>\n    <tr>\n      <th>0</th>\n      <td>mlp</td>\n      <td>all</td>\n      <td>3</td>\n      <td>0.273698</td>\n    </tr>\n    <tr>\n      <th>0</th>\n      <td>mlp</td>\n      <td>ou</td>\n      <td>3</td>\n      <td>0.274053</td>\n    </tr>\n    <tr>\n      <th>0</th>\n      <td>mlp</td>\n      <td>classic</td>\n      <td>3</td>\n      <td>0.255345</td>\n    </tr>\n    <tr>\n      <th>0</th>\n      <td>mlp</td>\n      <td>pupil</td>\n      <td>3</td>\n      <td>0.260275</td>\n    </tr>\n    <tr>\n      <th>0</th>\n      <td>rf</td>\n      <td>all</td>\n      <td>3</td>\n      <td>0.272583</td>\n    </tr>\n    <tr>\n      <th>0</th>\n      <td>rf</td>\n      <td>ou</td>\n      <td>3</td>\n      <td>0.272316</td>\n    </tr>\n    <tr>\n      <th>0</th>\n      <td>rf</td>\n      <td>classic</td>\n      <td>3</td>\n      <td>0.264384</td>\n    </tr>\n    <tr>\n      <th>0</th>\n      <td>rf</td>\n      <td>pupil</td>\n      <td>3</td>\n      <td>0.260157</td>\n    </tr>\n    <tr>\n      <th>0</th>\n      <td>mlp</td>\n      <td>all</td>\n      <td>4</td>\n      <td>0.407727</td>\n    </tr>\n    <tr>\n      <th>0</th>\n      <td>mlp</td>\n      <td>ou</td>\n      <td>4</td>\n      <td>0.393799</td>\n    </tr>\n    <tr>\n      <th>0</th>\n      <td>mlp</td>\n      <td>classic</td>\n      <td>4</td>\n      <td>0.395093</td>\n    </tr>\n    <tr>\n      <th>0</th>\n      <td>mlp</td>\n      <td>pupil</td>\n      <td>4</td>\n      <td>0.392409</td>\n    </tr>\n    <tr>\n      <th>0</th>\n      <td>rf</td>\n      <td>all</td>\n      <td>4</td>\n      <td>0.401100</td>\n    </tr>\n    <tr>\n      <th>0</th>\n      <td>rf</td>\n      <td>ou</td>\n      <td>4</td>\n      <td>0.403961</td>\n    </tr>\n    <tr>\n      <th>0</th>\n      <td>rf</td>\n      <td>classic</td>\n      <td>4</td>\n      <td>0.408128</td>\n    </tr>\n    <tr>\n      <th>0</th>\n      <td>rf</td>\n      <td>pupil</td>\n      <td>4</td>\n      <td>0.387970</td>\n    </tr>\n    <tr>\n      <th>0</th>\n      <td>mlp</td>\n      <td>all</td>\n      <td>5</td>\n      <td>0.480139</td>\n    </tr>\n    <tr>\n      <th>0</th>\n      <td>mlp</td>\n      <td>ou</td>\n      <td>5</td>\n      <td>0.426990</td>\n    </tr>\n    <tr>\n      <th>0</th>\n      <td>mlp</td>\n      <td>classic</td>\n      <td>5</td>\n      <td>0.438991</td>\n    </tr>\n    <tr>\n      <th>0</th>\n      <td>mlp</td>\n      <td>pupil</td>\n      <td>5</td>\n      <td>0.442217</td>\n    </tr>\n    <tr>\n      <th>0</th>\n      <td>rf</td>\n      <td>all</td>\n      <td>5</td>\n      <td>0.465231</td>\n    </tr>\n    <tr>\n      <th>0</th>\n      <td>rf</td>\n      <td>ou</td>\n      <td>5</td>\n      <td>0.446928</td>\n    </tr>\n    <tr>\n      <th>0</th>\n      <td>rf</td>\n      <td>classic</td>\n      <td>5</td>\n      <td>0.450699</td>\n    </tr>\n    <tr>\n      <th>0</th>\n      <td>rf</td>\n      <td>pupil</td>\n      <td>5</td>\n      <td>0.453581</td>\n    </tr>\n  </tbody>\n</table>\n</div>"
     },
     "execution_count": 25,
     "metadata": {},
     "output_type": "execute_result"
    }
   ],
   "source": [
    "MAPE_df = tmp_df.drop(columns=['index'])\n",
    "MAPE_df"
   ],
   "metadata": {
    "collapsed": false,
    "ExecuteTime": {
     "start_time": "2023-05-04T15:53:51.180788Z",
     "end_time": "2023-05-04T15:53:52.147886Z"
    }
   }
  },
  {
   "cell_type": "code",
   "execution_count": 26,
   "metadata": {
    "ExecuteTime": {
     "start_time": "2023-05-04T15:53:51.224045Z",
     "end_time": "2023-05-04T15:53:52.149332Z"
    }
   },
   "outputs": [],
   "source": [
    "def parse_file(namefile):\n",
    "    \n",
    "    df_tmp = pd.DataFrame(columns = ['type','fold','RMSE','MAE','R2','features'])\n",
    "\n",
    "    with open(namefile, \"r\") as f:\n",
    "        file_contents = f.read()\n",
    "\n",
    "    rmse = re.findall(r\"RMSE test (-?[\\d.]+)\", file_contents)\n",
    "    mae = re.findall(r\"MAE test (-?[\\d.]+)\", file_contents)\n",
    "    r2 = re.findall(r\"R2 test (-?[\\d.]+)\", file_contents)\n",
    "    \n",
    "    pattern = r\"_(.*?)\\.log\"\n",
    "    match = re.search(pattern, namefile)\n",
    "    print(match.group(1))\n",
    "    if match:\n",
    "        type_ = match.group(1)\n",
    "\n",
    "    df_tmp['RMSE'] = pd.to_numeric(pd.Series(rmse))\n",
    "    df_tmp['MAE'] = pd.to_numeric(pd.Series(mae))\n",
    "    df_tmp['R2'] = pd.to_numeric(pd.Series(r2))\n",
    "    df_tmp['type'] = pd.Series([type_]*len(mae))\n",
    "    df_tmp['fold'] = pd.to_numeric(pd.Series([1,2,3,4,5]*(4)))\n",
    "    \n",
    "    series_values = ['all'] * 5 + ['classic'] * 5 + ['pupil'] * 5 + ['ou'] * 5\n",
    "    series_index = ['A', 'B', 'C', 'D', 'E'] * 4\n",
    "\n",
    "    df_tmp['features'] = pd.Series(series_values)\n",
    "\n",
    "    return df_tmp"
   ]
  },
  {
   "cell_type": "code",
   "execution_count": 27,
   "metadata": {
    "ExecuteTime": {
     "start_time": "2023-05-04T15:53:51.254066Z",
     "end_time": "2023-05-04T15:53:52.266979Z"
    }
   },
   "outputs": [
    {
     "name": "stdout",
     "output_type": "stream",
     "text": [
      "subject/output_mlp\n"
     ]
    }
   ],
   "source": [
    "df_mlp = parse_file(\"results/kfold_subject/output_mlp.log\")"
   ]
  },
  {
   "cell_type": "code",
   "execution_count": 28,
   "metadata": {
    "ExecuteTime": {
     "start_time": "2023-05-04T15:53:51.314189Z",
     "end_time": "2023-05-04T15:53:52.273039Z"
    }
   },
   "outputs": [
    {
     "name": "stdout",
     "output_type": "stream",
     "text": [
      "subject/output_rf\n"
     ]
    }
   ],
   "source": [
    "df_rf = parse_file(\"results/kfold_subject/output_rf.log\")"
   ]
  },
  {
   "cell_type": "code",
   "execution_count": 29,
   "metadata": {
    "ExecuteTime": {
     "start_time": "2023-05-04T15:53:51.363664Z",
     "end_time": "2023-05-04T15:53:52.370858Z"
    }
   },
   "outputs": [],
   "source": [
    "df_values = pd.concat((df_mlp,df_rf))"
   ]
  },
  {
   "cell_type": "code",
   "execution_count": 30,
   "metadata": {
    "ExecuteTime": {
     "start_time": "2023-05-04T15:53:51.393775Z",
     "end_time": "2023-05-04T15:53:52.372340Z"
    }
   },
   "outputs": [
    {
     "data": {
      "text/plain": "                  type  fold       RMSE       MAE        R2 features\n0   subject/output_mlp     1   5.943081  5.188627  0.069311      all\n1   subject/output_mlp     2  10.161729  6.064146 -0.058481      all\n2   subject/output_mlp     3   7.137020  5.723141 -0.101415      all\n3   subject/output_mlp     4   8.141195  6.987332 -0.064724      all\n4   subject/output_mlp     5   8.214942  6.589985  0.039356      all\n5   subject/output_mlp     1   6.291195  5.489279 -0.042912  classic\n6   subject/output_mlp     2   9.857382  6.211742  0.003973  classic\n7   subject/output_mlp     3   7.009607  5.380381 -0.062440  classic\n8   subject/output_mlp     4   7.916204  6.806904 -0.006687  classic\n9   subject/output_mlp     5   8.318495  6.942868  0.014984  classic\n10  subject/output_mlp     1   6.068692  5.226886  0.029554    pupil\n11  subject/output_mlp     2   9.989082  5.834091 -0.022820    pupil\n12  subject/output_mlp     3   6.991124  5.495258 -0.056845    pupil\n13  subject/output_mlp     4   8.025933  6.786983 -0.034789    pupil\n14  subject/output_mlp     5   8.892140  7.382940 -0.125554    pupil\n15  subject/output_mlp     1   7.371625  6.183360 -0.431883       ou\n16  subject/output_mlp     2   9.896803  6.317140 -0.004010       ou\n17  subject/output_mlp     3   7.045175  5.565571 -0.073250       ou\n18  subject/output_mlp     4   7.823017  6.750733  0.016874       ou\n19  subject/output_mlp     5   8.231399  6.634456  0.035503       ou\n0    subject/output_rf     1   6.331390  5.535620 -0.056280      all\n1    subject/output_rf     2  10.101780  6.135461 -0.046029      all\n2    subject/output_rf     3   6.998060  5.646803 -0.058943      all\n3    subject/output_rf     4   8.111162  6.897085 -0.056883      all\n4    subject/output_rf     5   8.319537  6.825781  0.014737      all\n5    subject/output_rf     1   6.260700  5.462041 -0.032826  classic\n6    subject/output_rf     2   9.861494  6.306782  0.003142  classic\n7    subject/output_rf     3   6.926918  5.436220 -0.037522  classic\n8    subject/output_rf     4   7.905940  6.898313 -0.004078  classic\n9    subject/output_rf     5   8.358903  6.979310  0.005391  classic\n10   subject/output_rf     1   6.114581  5.235487  0.014822    pupil\n11   subject/output_rf     2  10.003944  6.040716 -0.025866    pupil\n12   subject/output_rf     3   6.965560  5.471956 -0.049130    pupil\n13   subject/output_rf     4   8.033967  6.754425 -0.036861    pupil\n14   subject/output_rf     5   8.568569  7.201053 -0.045130    pupil\n15   subject/output_rf     1   6.372747  5.549805 -0.070125       ou\n16   subject/output_rf     2   9.881377  6.242345 -0.000882       ou\n17   subject/output_rf     3   6.960772  5.523243 -0.047688       ou\n18   subject/output_rf     4   7.791247  6.808015  0.024843       ou\n19   subject/output_rf     5   8.242047  6.755957  0.033006       ou",
      "text/html": "<div>\n<style scoped>\n    .dataframe tbody tr th:only-of-type {\n        vertical-align: middle;\n    }\n\n    .dataframe tbody tr th {\n        vertical-align: top;\n    }\n\n    .dataframe thead th {\n        text-align: right;\n    }\n</style>\n<table border=\"1\" class=\"dataframe\">\n  <thead>\n    <tr style=\"text-align: right;\">\n      <th></th>\n      <th>type</th>\n      <th>fold</th>\n      <th>RMSE</th>\n      <th>MAE</th>\n      <th>R2</th>\n      <th>features</th>\n    </tr>\n  </thead>\n  <tbody>\n    <tr>\n      <th>0</th>\n      <td>subject/output_mlp</td>\n      <td>1</td>\n      <td>5.943081</td>\n      <td>5.188627</td>\n      <td>0.069311</td>\n      <td>all</td>\n    </tr>\n    <tr>\n      <th>1</th>\n      <td>subject/output_mlp</td>\n      <td>2</td>\n      <td>10.161729</td>\n      <td>6.064146</td>\n      <td>-0.058481</td>\n      <td>all</td>\n    </tr>\n    <tr>\n      <th>2</th>\n      <td>subject/output_mlp</td>\n      <td>3</td>\n      <td>7.137020</td>\n      <td>5.723141</td>\n      <td>-0.101415</td>\n      <td>all</td>\n    </tr>\n    <tr>\n      <th>3</th>\n      <td>subject/output_mlp</td>\n      <td>4</td>\n      <td>8.141195</td>\n      <td>6.987332</td>\n      <td>-0.064724</td>\n      <td>all</td>\n    </tr>\n    <tr>\n      <th>4</th>\n      <td>subject/output_mlp</td>\n      <td>5</td>\n      <td>8.214942</td>\n      <td>6.589985</td>\n      <td>0.039356</td>\n      <td>all</td>\n    </tr>\n    <tr>\n      <th>5</th>\n      <td>subject/output_mlp</td>\n      <td>1</td>\n      <td>6.291195</td>\n      <td>5.489279</td>\n      <td>-0.042912</td>\n      <td>classic</td>\n    </tr>\n    <tr>\n      <th>6</th>\n      <td>subject/output_mlp</td>\n      <td>2</td>\n      <td>9.857382</td>\n      <td>6.211742</td>\n      <td>0.003973</td>\n      <td>classic</td>\n    </tr>\n    <tr>\n      <th>7</th>\n      <td>subject/output_mlp</td>\n      <td>3</td>\n      <td>7.009607</td>\n      <td>5.380381</td>\n      <td>-0.062440</td>\n      <td>classic</td>\n    </tr>\n    <tr>\n      <th>8</th>\n      <td>subject/output_mlp</td>\n      <td>4</td>\n      <td>7.916204</td>\n      <td>6.806904</td>\n      <td>-0.006687</td>\n      <td>classic</td>\n    </tr>\n    <tr>\n      <th>9</th>\n      <td>subject/output_mlp</td>\n      <td>5</td>\n      <td>8.318495</td>\n      <td>6.942868</td>\n      <td>0.014984</td>\n      <td>classic</td>\n    </tr>\n    <tr>\n      <th>10</th>\n      <td>subject/output_mlp</td>\n      <td>1</td>\n      <td>6.068692</td>\n      <td>5.226886</td>\n      <td>0.029554</td>\n      <td>pupil</td>\n    </tr>\n    <tr>\n      <th>11</th>\n      <td>subject/output_mlp</td>\n      <td>2</td>\n      <td>9.989082</td>\n      <td>5.834091</td>\n      <td>-0.022820</td>\n      <td>pupil</td>\n    </tr>\n    <tr>\n      <th>12</th>\n      <td>subject/output_mlp</td>\n      <td>3</td>\n      <td>6.991124</td>\n      <td>5.495258</td>\n      <td>-0.056845</td>\n      <td>pupil</td>\n    </tr>\n    <tr>\n      <th>13</th>\n      <td>subject/output_mlp</td>\n      <td>4</td>\n      <td>8.025933</td>\n      <td>6.786983</td>\n      <td>-0.034789</td>\n      <td>pupil</td>\n    </tr>\n    <tr>\n      <th>14</th>\n      <td>subject/output_mlp</td>\n      <td>5</td>\n      <td>8.892140</td>\n      <td>7.382940</td>\n      <td>-0.125554</td>\n      <td>pupil</td>\n    </tr>\n    <tr>\n      <th>15</th>\n      <td>subject/output_mlp</td>\n      <td>1</td>\n      <td>7.371625</td>\n      <td>6.183360</td>\n      <td>-0.431883</td>\n      <td>ou</td>\n    </tr>\n    <tr>\n      <th>16</th>\n      <td>subject/output_mlp</td>\n      <td>2</td>\n      <td>9.896803</td>\n      <td>6.317140</td>\n      <td>-0.004010</td>\n      <td>ou</td>\n    </tr>\n    <tr>\n      <th>17</th>\n      <td>subject/output_mlp</td>\n      <td>3</td>\n      <td>7.045175</td>\n      <td>5.565571</td>\n      <td>-0.073250</td>\n      <td>ou</td>\n    </tr>\n    <tr>\n      <th>18</th>\n      <td>subject/output_mlp</td>\n      <td>4</td>\n      <td>7.823017</td>\n      <td>6.750733</td>\n      <td>0.016874</td>\n      <td>ou</td>\n    </tr>\n    <tr>\n      <th>19</th>\n      <td>subject/output_mlp</td>\n      <td>5</td>\n      <td>8.231399</td>\n      <td>6.634456</td>\n      <td>0.035503</td>\n      <td>ou</td>\n    </tr>\n    <tr>\n      <th>0</th>\n      <td>subject/output_rf</td>\n      <td>1</td>\n      <td>6.331390</td>\n      <td>5.535620</td>\n      <td>-0.056280</td>\n      <td>all</td>\n    </tr>\n    <tr>\n      <th>1</th>\n      <td>subject/output_rf</td>\n      <td>2</td>\n      <td>10.101780</td>\n      <td>6.135461</td>\n      <td>-0.046029</td>\n      <td>all</td>\n    </tr>\n    <tr>\n      <th>2</th>\n      <td>subject/output_rf</td>\n      <td>3</td>\n      <td>6.998060</td>\n      <td>5.646803</td>\n      <td>-0.058943</td>\n      <td>all</td>\n    </tr>\n    <tr>\n      <th>3</th>\n      <td>subject/output_rf</td>\n      <td>4</td>\n      <td>8.111162</td>\n      <td>6.897085</td>\n      <td>-0.056883</td>\n      <td>all</td>\n    </tr>\n    <tr>\n      <th>4</th>\n      <td>subject/output_rf</td>\n      <td>5</td>\n      <td>8.319537</td>\n      <td>6.825781</td>\n      <td>0.014737</td>\n      <td>all</td>\n    </tr>\n    <tr>\n      <th>5</th>\n      <td>subject/output_rf</td>\n      <td>1</td>\n      <td>6.260700</td>\n      <td>5.462041</td>\n      <td>-0.032826</td>\n      <td>classic</td>\n    </tr>\n    <tr>\n      <th>6</th>\n      <td>subject/output_rf</td>\n      <td>2</td>\n      <td>9.861494</td>\n      <td>6.306782</td>\n      <td>0.003142</td>\n      <td>classic</td>\n    </tr>\n    <tr>\n      <th>7</th>\n      <td>subject/output_rf</td>\n      <td>3</td>\n      <td>6.926918</td>\n      <td>5.436220</td>\n      <td>-0.037522</td>\n      <td>classic</td>\n    </tr>\n    <tr>\n      <th>8</th>\n      <td>subject/output_rf</td>\n      <td>4</td>\n      <td>7.905940</td>\n      <td>6.898313</td>\n      <td>-0.004078</td>\n      <td>classic</td>\n    </tr>\n    <tr>\n      <th>9</th>\n      <td>subject/output_rf</td>\n      <td>5</td>\n      <td>8.358903</td>\n      <td>6.979310</td>\n      <td>0.005391</td>\n      <td>classic</td>\n    </tr>\n    <tr>\n      <th>10</th>\n      <td>subject/output_rf</td>\n      <td>1</td>\n      <td>6.114581</td>\n      <td>5.235487</td>\n      <td>0.014822</td>\n      <td>pupil</td>\n    </tr>\n    <tr>\n      <th>11</th>\n      <td>subject/output_rf</td>\n      <td>2</td>\n      <td>10.003944</td>\n      <td>6.040716</td>\n      <td>-0.025866</td>\n      <td>pupil</td>\n    </tr>\n    <tr>\n      <th>12</th>\n      <td>subject/output_rf</td>\n      <td>3</td>\n      <td>6.965560</td>\n      <td>5.471956</td>\n      <td>-0.049130</td>\n      <td>pupil</td>\n    </tr>\n    <tr>\n      <th>13</th>\n      <td>subject/output_rf</td>\n      <td>4</td>\n      <td>8.033967</td>\n      <td>6.754425</td>\n      <td>-0.036861</td>\n      <td>pupil</td>\n    </tr>\n    <tr>\n      <th>14</th>\n      <td>subject/output_rf</td>\n      <td>5</td>\n      <td>8.568569</td>\n      <td>7.201053</td>\n      <td>-0.045130</td>\n      <td>pupil</td>\n    </tr>\n    <tr>\n      <th>15</th>\n      <td>subject/output_rf</td>\n      <td>1</td>\n      <td>6.372747</td>\n      <td>5.549805</td>\n      <td>-0.070125</td>\n      <td>ou</td>\n    </tr>\n    <tr>\n      <th>16</th>\n      <td>subject/output_rf</td>\n      <td>2</td>\n      <td>9.881377</td>\n      <td>6.242345</td>\n      <td>-0.000882</td>\n      <td>ou</td>\n    </tr>\n    <tr>\n      <th>17</th>\n      <td>subject/output_rf</td>\n      <td>3</td>\n      <td>6.960772</td>\n      <td>5.523243</td>\n      <td>-0.047688</td>\n      <td>ou</td>\n    </tr>\n    <tr>\n      <th>18</th>\n      <td>subject/output_rf</td>\n      <td>4</td>\n      <td>7.791247</td>\n      <td>6.808015</td>\n      <td>0.024843</td>\n      <td>ou</td>\n    </tr>\n    <tr>\n      <th>19</th>\n      <td>subject/output_rf</td>\n      <td>5</td>\n      <td>8.242047</td>\n      <td>6.755957</td>\n      <td>0.033006</td>\n      <td>ou</td>\n    </tr>\n  </tbody>\n</table>\n</div>"
     },
     "execution_count": 30,
     "metadata": {},
     "output_type": "execute_result"
    }
   ],
   "source": [
    "df_values"
   ]
  },
  {
   "cell_type": "code",
   "execution_count": 31,
   "outputs": [
    {
     "data": {
      "text/plain": "array(['all', 'classic', 'pupil', 'ou'], dtype=object)"
     },
     "execution_count": 31,
     "metadata": {},
     "output_type": "execute_result"
    }
   ],
   "source": [
    "df_values['features'].unique()"
   ],
   "metadata": {
    "collapsed": false,
    "ExecuteTime": {
     "start_time": "2023-05-04T15:53:51.457157Z",
     "end_time": "2023-05-04T15:53:52.373099Z"
    }
   }
  },
  {
   "cell_type": "code",
   "execution_count": 32,
   "outputs": [
    {
     "data": {
      "text/plain": "array(['all', 'ou', 'classic', 'pupil'], dtype=object)"
     },
     "execution_count": 32,
     "metadata": {},
     "output_type": "execute_result"
    }
   ],
   "source": [
    "MAPE_df['features'].unique()"
   ],
   "metadata": {
    "collapsed": false,
    "ExecuteTime": {
     "start_time": "2023-05-04T15:53:51.484530Z",
     "end_time": "2023-05-04T15:53:52.376576Z"
    }
   }
  },
  {
   "cell_type": "code",
   "execution_count": 33,
   "outputs": [
    {
     "data": {
      "text/plain": "    index type features fold      MAPE\n0       0  mlp      all    1  0.307251\n1       0  mlp       ou    1  0.397121\n2       0  mlp  classic    1  0.340453\n3       0  mlp    pupil    1  0.315663\n4       0   rf      all    1  0.343720\n5       0   rf       ou    1  0.346047\n6       0   rf  classic    1  0.338887\n7       0   rf    pupil    1  0.323192\n8       0  mlp      all    2  0.259517\n9       0  mlp       ou    2  0.283344\n10      0  mlp  classic    2  0.281251\n11      0  mlp    pupil    2  0.246853\n12      0   rf      all    2  0.266229\n13      0   rf       ou    2  0.278979\n14      0   rf  classic    2  0.287297\n15      0   rf    pupil    2  0.261762\n16      0  mlp      all    3  0.273698\n17      0  mlp       ou    3  0.274053\n18      0  mlp  classic    3  0.255345\n19      0  mlp    pupil    3  0.260275\n20      0   rf      all    3  0.272583\n21      0   rf       ou    3  0.272316\n22      0   rf  classic    3  0.264384\n23      0   rf    pupil    3  0.260157\n24      0  mlp      all    4  0.407727\n25      0  mlp       ou    4  0.393799\n26      0  mlp  classic    4  0.395093\n27      0  mlp    pupil    4  0.392409\n28      0   rf      all    4  0.401100\n29      0   rf       ou    4  0.403961\n30      0   rf  classic    4  0.408128\n31      0   rf    pupil    4  0.387970\n32      0  mlp      all    5  0.480139\n33      0  mlp       ou    5  0.426990\n34      0  mlp  classic    5  0.438991\n35      0  mlp    pupil    5  0.442217\n36      0   rf      all    5  0.465231\n37      0   rf       ou    5  0.446928\n38      0   rf  classic    5  0.450699\n39      0   rf    pupil    5  0.453581",
      "text/html": "<div>\n<style scoped>\n    .dataframe tbody tr th:only-of-type {\n        vertical-align: middle;\n    }\n\n    .dataframe tbody tr th {\n        vertical-align: top;\n    }\n\n    .dataframe thead th {\n        text-align: right;\n    }\n</style>\n<table border=\"1\" class=\"dataframe\">\n  <thead>\n    <tr style=\"text-align: right;\">\n      <th></th>\n      <th>index</th>\n      <th>type</th>\n      <th>features</th>\n      <th>fold</th>\n      <th>MAPE</th>\n    </tr>\n  </thead>\n  <tbody>\n    <tr>\n      <th>0</th>\n      <td>0</td>\n      <td>mlp</td>\n      <td>all</td>\n      <td>1</td>\n      <td>0.307251</td>\n    </tr>\n    <tr>\n      <th>1</th>\n      <td>0</td>\n      <td>mlp</td>\n      <td>ou</td>\n      <td>1</td>\n      <td>0.397121</td>\n    </tr>\n    <tr>\n      <th>2</th>\n      <td>0</td>\n      <td>mlp</td>\n      <td>classic</td>\n      <td>1</td>\n      <td>0.340453</td>\n    </tr>\n    <tr>\n      <th>3</th>\n      <td>0</td>\n      <td>mlp</td>\n      <td>pupil</td>\n      <td>1</td>\n      <td>0.315663</td>\n    </tr>\n    <tr>\n      <th>4</th>\n      <td>0</td>\n      <td>rf</td>\n      <td>all</td>\n      <td>1</td>\n      <td>0.343720</td>\n    </tr>\n    <tr>\n      <th>5</th>\n      <td>0</td>\n      <td>rf</td>\n      <td>ou</td>\n      <td>1</td>\n      <td>0.346047</td>\n    </tr>\n    <tr>\n      <th>6</th>\n      <td>0</td>\n      <td>rf</td>\n      <td>classic</td>\n      <td>1</td>\n      <td>0.338887</td>\n    </tr>\n    <tr>\n      <th>7</th>\n      <td>0</td>\n      <td>rf</td>\n      <td>pupil</td>\n      <td>1</td>\n      <td>0.323192</td>\n    </tr>\n    <tr>\n      <th>8</th>\n      <td>0</td>\n      <td>mlp</td>\n      <td>all</td>\n      <td>2</td>\n      <td>0.259517</td>\n    </tr>\n    <tr>\n      <th>9</th>\n      <td>0</td>\n      <td>mlp</td>\n      <td>ou</td>\n      <td>2</td>\n      <td>0.283344</td>\n    </tr>\n    <tr>\n      <th>10</th>\n      <td>0</td>\n      <td>mlp</td>\n      <td>classic</td>\n      <td>2</td>\n      <td>0.281251</td>\n    </tr>\n    <tr>\n      <th>11</th>\n      <td>0</td>\n      <td>mlp</td>\n      <td>pupil</td>\n      <td>2</td>\n      <td>0.246853</td>\n    </tr>\n    <tr>\n      <th>12</th>\n      <td>0</td>\n      <td>rf</td>\n      <td>all</td>\n      <td>2</td>\n      <td>0.266229</td>\n    </tr>\n    <tr>\n      <th>13</th>\n      <td>0</td>\n      <td>rf</td>\n      <td>ou</td>\n      <td>2</td>\n      <td>0.278979</td>\n    </tr>\n    <tr>\n      <th>14</th>\n      <td>0</td>\n      <td>rf</td>\n      <td>classic</td>\n      <td>2</td>\n      <td>0.287297</td>\n    </tr>\n    <tr>\n      <th>15</th>\n      <td>0</td>\n      <td>rf</td>\n      <td>pupil</td>\n      <td>2</td>\n      <td>0.261762</td>\n    </tr>\n    <tr>\n      <th>16</th>\n      <td>0</td>\n      <td>mlp</td>\n      <td>all</td>\n      <td>3</td>\n      <td>0.273698</td>\n    </tr>\n    <tr>\n      <th>17</th>\n      <td>0</td>\n      <td>mlp</td>\n      <td>ou</td>\n      <td>3</td>\n      <td>0.274053</td>\n    </tr>\n    <tr>\n      <th>18</th>\n      <td>0</td>\n      <td>mlp</td>\n      <td>classic</td>\n      <td>3</td>\n      <td>0.255345</td>\n    </tr>\n    <tr>\n      <th>19</th>\n      <td>0</td>\n      <td>mlp</td>\n      <td>pupil</td>\n      <td>3</td>\n      <td>0.260275</td>\n    </tr>\n    <tr>\n      <th>20</th>\n      <td>0</td>\n      <td>rf</td>\n      <td>all</td>\n      <td>3</td>\n      <td>0.272583</td>\n    </tr>\n    <tr>\n      <th>21</th>\n      <td>0</td>\n      <td>rf</td>\n      <td>ou</td>\n      <td>3</td>\n      <td>0.272316</td>\n    </tr>\n    <tr>\n      <th>22</th>\n      <td>0</td>\n      <td>rf</td>\n      <td>classic</td>\n      <td>3</td>\n      <td>0.264384</td>\n    </tr>\n    <tr>\n      <th>23</th>\n      <td>0</td>\n      <td>rf</td>\n      <td>pupil</td>\n      <td>3</td>\n      <td>0.260157</td>\n    </tr>\n    <tr>\n      <th>24</th>\n      <td>0</td>\n      <td>mlp</td>\n      <td>all</td>\n      <td>4</td>\n      <td>0.407727</td>\n    </tr>\n    <tr>\n      <th>25</th>\n      <td>0</td>\n      <td>mlp</td>\n      <td>ou</td>\n      <td>4</td>\n      <td>0.393799</td>\n    </tr>\n    <tr>\n      <th>26</th>\n      <td>0</td>\n      <td>mlp</td>\n      <td>classic</td>\n      <td>4</td>\n      <td>0.395093</td>\n    </tr>\n    <tr>\n      <th>27</th>\n      <td>0</td>\n      <td>mlp</td>\n      <td>pupil</td>\n      <td>4</td>\n      <td>0.392409</td>\n    </tr>\n    <tr>\n      <th>28</th>\n      <td>0</td>\n      <td>rf</td>\n      <td>all</td>\n      <td>4</td>\n      <td>0.401100</td>\n    </tr>\n    <tr>\n      <th>29</th>\n      <td>0</td>\n      <td>rf</td>\n      <td>ou</td>\n      <td>4</td>\n      <td>0.403961</td>\n    </tr>\n    <tr>\n      <th>30</th>\n      <td>0</td>\n      <td>rf</td>\n      <td>classic</td>\n      <td>4</td>\n      <td>0.408128</td>\n    </tr>\n    <tr>\n      <th>31</th>\n      <td>0</td>\n      <td>rf</td>\n      <td>pupil</td>\n      <td>4</td>\n      <td>0.387970</td>\n    </tr>\n    <tr>\n      <th>32</th>\n      <td>0</td>\n      <td>mlp</td>\n      <td>all</td>\n      <td>5</td>\n      <td>0.480139</td>\n    </tr>\n    <tr>\n      <th>33</th>\n      <td>0</td>\n      <td>mlp</td>\n      <td>ou</td>\n      <td>5</td>\n      <td>0.426990</td>\n    </tr>\n    <tr>\n      <th>34</th>\n      <td>0</td>\n      <td>mlp</td>\n      <td>classic</td>\n      <td>5</td>\n      <td>0.438991</td>\n    </tr>\n    <tr>\n      <th>35</th>\n      <td>0</td>\n      <td>mlp</td>\n      <td>pupil</td>\n      <td>5</td>\n      <td>0.442217</td>\n    </tr>\n    <tr>\n      <th>36</th>\n      <td>0</td>\n      <td>rf</td>\n      <td>all</td>\n      <td>5</td>\n      <td>0.465231</td>\n    </tr>\n    <tr>\n      <th>37</th>\n      <td>0</td>\n      <td>rf</td>\n      <td>ou</td>\n      <td>5</td>\n      <td>0.446928</td>\n    </tr>\n    <tr>\n      <th>38</th>\n      <td>0</td>\n      <td>rf</td>\n      <td>classic</td>\n      <td>5</td>\n      <td>0.450699</td>\n    </tr>\n    <tr>\n      <th>39</th>\n      <td>0</td>\n      <td>rf</td>\n      <td>pupil</td>\n      <td>5</td>\n      <td>0.453581</td>\n    </tr>\n  </tbody>\n</table>\n</div>"
     },
     "execution_count": 33,
     "metadata": {},
     "output_type": "execute_result"
    }
   ],
   "source": [
    "MAPE_df.reset_index()"
   ],
   "metadata": {
    "collapsed": false,
    "ExecuteTime": {
     "start_time": "2023-05-04T15:53:51.511396Z",
     "end_time": "2023-05-04T15:53:52.389262Z"
    }
   }
  },
  {
   "cell_type": "code",
   "execution_count": 34,
   "outputs": [
    {
     "data": {
      "text/plain": "Empty DataFrame\nColumns: [type, fold, RMSE, MAE, R2, features, MAPE]\nIndex: []",
      "text/html": "<div>\n<style scoped>\n    .dataframe tbody tr th:only-of-type {\n        vertical-align: middle;\n    }\n\n    .dataframe tbody tr th {\n        vertical-align: top;\n    }\n\n    .dataframe thead th {\n        text-align: right;\n    }\n</style>\n<table border=\"1\" class=\"dataframe\">\n  <thead>\n    <tr style=\"text-align: right;\">\n      <th></th>\n      <th>type</th>\n      <th>fold</th>\n      <th>RMSE</th>\n      <th>MAE</th>\n      <th>R2</th>\n      <th>features</th>\n      <th>MAPE</th>\n    </tr>\n  </thead>\n  <tbody>\n  </tbody>\n</table>\n</div>"
     },
     "execution_count": 34,
     "metadata": {},
     "output_type": "execute_result"
    }
   ],
   "source": [
    "result = pd.merge(df_values,MAPE_df,on=['fold','features','type'],how='inner')\n",
    "result"
   ],
   "metadata": {
    "collapsed": false,
    "ExecuteTime": {
     "start_time": "2023-05-04T15:53:51.568551Z",
     "end_time": "2023-05-04T15:53:52.390348Z"
    }
   }
  },
  {
   "cell_type": "code",
   "execution_count": 35,
   "outputs": [],
   "source": [
    "result.to_csv('metrics_results.csv', index=False)"
   ],
   "metadata": {
    "collapsed": false,
    "ExecuteTime": {
     "start_time": "2023-05-04T15:53:51.599300Z",
     "end_time": "2023-05-04T15:53:52.391115Z"
    }
   }
  },
  {
   "cell_type": "code",
   "execution_count": 36,
   "metadata": {
    "ExecuteTime": {
     "start_time": "2023-05-04T15:53:51.619788Z",
     "end_time": "2023-05-04T15:53:52.391444Z"
    }
   },
   "outputs": [],
   "source": [
    "df_mlp = result[result['type']=='mlp']"
   ]
  },
  {
   "cell_type": "code",
   "execution_count": 37,
   "metadata": {
    "ExecuteTime": {
     "start_time": "2023-05-04T15:53:51.628588Z",
     "end_time": "2023-05-04T15:53:52.391899Z"
    }
   },
   "outputs": [
    {
     "data": {
      "text/plain": "Empty DataFrame\nColumns: [RMSE, MAE, MAPE, R2]\nIndex: []",
      "text/html": "<div>\n<style scoped>\n    .dataframe tbody tr th:only-of-type {\n        vertical-align: middle;\n    }\n\n    .dataframe tbody tr th {\n        vertical-align: top;\n    }\n\n    .dataframe thead th {\n        text-align: right;\n    }\n</style>\n<table border=\"1\" class=\"dataframe\">\n  <thead>\n    <tr style=\"text-align: right;\">\n      <th></th>\n      <th>RMSE</th>\n      <th>MAE</th>\n      <th>MAPE</th>\n      <th>R2</th>\n    </tr>\n    <tr>\n      <th>features</th>\n      <th></th>\n      <th></th>\n      <th></th>\n      <th></th>\n    </tr>\n  </thead>\n  <tbody>\n  </tbody>\n</table>\n</div>"
     },
     "execution_count": 37,
     "metadata": {},
     "output_type": "execute_result"
    }
   ],
   "source": [
    "df_mlp[['RMSE','MAE','MAPE','R2','features']].groupby(['features']).mean().sort_values('RMSE')"
   ]
  },
  {
   "cell_type": "code",
   "execution_count": 38,
   "metadata": {
    "ExecuteTime": {
     "start_time": "2023-05-04T15:53:51.673171Z",
     "end_time": "2023-05-04T15:53:52.501985Z"
    }
   },
   "outputs": [],
   "source": [
    "df_gp = result[result['type']=='gp']"
   ]
  },
  {
   "cell_type": "code",
   "execution_count": 39,
   "metadata": {
    "ExecuteTime": {
     "start_time": "2023-05-04T15:53:51.673596Z",
     "end_time": "2023-05-04T15:53:52.503438Z"
    }
   },
   "outputs": [
    {
     "data": {
      "text/plain": "Empty DataFrame\nColumns: [RMSE, MAE, MAPE, R2]\nIndex: []",
      "text/html": "<div>\n<style scoped>\n    .dataframe tbody tr th:only-of-type {\n        vertical-align: middle;\n    }\n\n    .dataframe tbody tr th {\n        vertical-align: top;\n    }\n\n    .dataframe thead th {\n        text-align: right;\n    }\n</style>\n<table border=\"1\" class=\"dataframe\">\n  <thead>\n    <tr style=\"text-align: right;\">\n      <th></th>\n      <th>RMSE</th>\n      <th>MAE</th>\n      <th>MAPE</th>\n      <th>R2</th>\n    </tr>\n    <tr>\n      <th>features</th>\n      <th></th>\n      <th></th>\n      <th></th>\n      <th></th>\n    </tr>\n  </thead>\n  <tbody>\n  </tbody>\n</table>\n</div>"
     },
     "execution_count": 39,
     "metadata": {},
     "output_type": "execute_result"
    }
   ],
   "source": [
    "df_gp[['RMSE','MAE','MAPE','R2','features']].groupby(['features']).mean().sort_values('RMSE')"
   ]
  },
  {
   "cell_type": "code",
   "execution_count": 40,
   "metadata": {
    "ExecuteTime": {
     "start_time": "2023-05-04T15:53:51.716905Z",
     "end_time": "2023-05-04T15:53:52.503845Z"
    }
   },
   "outputs": [],
   "source": [
    "df_rf = result[result['type']=='rf']"
   ]
  },
  {
   "cell_type": "code",
   "execution_count": 41,
   "metadata": {
    "ExecuteTime": {
     "start_time": "2023-05-04T15:53:51.717333Z",
     "end_time": "2023-05-04T15:53:52.629185Z"
    }
   },
   "outputs": [
    {
     "data": {
      "text/plain": "Empty DataFrame\nColumns: [RMSE, MAE, MAPE, R2]\nIndex: []",
      "text/html": "<div>\n<style scoped>\n    .dataframe tbody tr th:only-of-type {\n        vertical-align: middle;\n    }\n\n    .dataframe tbody tr th {\n        vertical-align: top;\n    }\n\n    .dataframe thead th {\n        text-align: right;\n    }\n</style>\n<table border=\"1\" class=\"dataframe\">\n  <thead>\n    <tr style=\"text-align: right;\">\n      <th></th>\n      <th>RMSE</th>\n      <th>MAE</th>\n      <th>MAPE</th>\n      <th>R2</th>\n    </tr>\n    <tr>\n      <th>features</th>\n      <th></th>\n      <th></th>\n      <th></th>\n      <th></th>\n    </tr>\n  </thead>\n  <tbody>\n  </tbody>\n</table>\n</div>"
     },
     "execution_count": 41,
     "metadata": {},
     "output_type": "execute_result"
    }
   ],
   "source": [
    "df_rf[['RMSE','MAE','MAPE','R2','features']].groupby(['features']).mean().sort_values('RMSE')"
   ]
  },
  {
   "cell_type": "code",
   "execution_count": 42,
   "metadata": {
    "ExecuteTime": {
     "start_time": "2023-05-04T15:53:51.717707Z",
     "end_time": "2023-05-04T15:53:52.629680Z"
    }
   },
   "outputs": [],
   "source": [
    "df_svm = result[result['type']=='svm']"
   ]
  },
  {
   "cell_type": "code",
   "execution_count": 43,
   "metadata": {
    "ExecuteTime": {
     "start_time": "2023-05-04T15:53:51.718080Z",
     "end_time": "2023-05-04T15:53:52.630524Z"
    }
   },
   "outputs": [
    {
     "data": {
      "text/plain": "Empty DataFrame\nColumns: [RMSE, MAE, R2, MAPE]\nIndex: []",
      "text/html": "<div>\n<style scoped>\n    .dataframe tbody tr th:only-of-type {\n        vertical-align: middle;\n    }\n\n    .dataframe tbody tr th {\n        vertical-align: top;\n    }\n\n    .dataframe thead th {\n        text-align: right;\n    }\n</style>\n<table border=\"1\" class=\"dataframe\">\n  <thead>\n    <tr style=\"text-align: right;\">\n      <th></th>\n      <th>RMSE</th>\n      <th>MAE</th>\n      <th>R2</th>\n      <th>MAPE</th>\n    </tr>\n    <tr>\n      <th>features</th>\n      <th></th>\n      <th></th>\n      <th></th>\n      <th></th>\n    </tr>\n  </thead>\n  <tbody>\n  </tbody>\n</table>\n</div>"
     },
     "execution_count": 43,
     "metadata": {},
     "output_type": "execute_result"
    }
   ],
   "source": [
    "df_svm[['RMSE','MAE','R2','MAPE','features']].groupby(['features']).mean().sort_values('RMSE')"
   ]
  },
  {
   "cell_type": "code",
   "execution_count": 43,
   "metadata": {
    "ExecuteTime": {
     "start_time": "2023-05-04T15:53:51.760931Z",
     "end_time": "2023-05-04T15:53:52.631060Z"
    }
   },
   "outputs": [],
   "source": []
  }
 ],
 "metadata": {
  "kernelspec": {
   "display_name": "Python 3 (ipykernel)",
   "language": "python",
   "name": "python3"
  },
  "language_info": {
   "codemirror_mode": {
    "name": "ipython",
    "version": 3
   },
   "file_extension": ".py",
   "mimetype": "text/x-python",
   "name": "python",
   "nbconvert_exporter": "python",
   "pygments_lexer": "ipython3",
   "version": "3.10.6"
  }
 },
 "nbformat": 4,
 "nbformat_minor": 1
}
